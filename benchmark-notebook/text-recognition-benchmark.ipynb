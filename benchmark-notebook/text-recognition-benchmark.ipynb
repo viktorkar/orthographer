{
 "cells": [
  {
   "cell_type": "markdown",
   "id": "ae806318",
   "metadata": {},
   "source": [
    "# Text Recognition Benchmarking"
   ]
  },
  {
   "cell_type": "markdown",
   "id": "8aeeb68a",
   "metadata": {},
   "source": [
    "## Local Imports"
   ]
  },
  {
   "cell_type": "code",
   "execution_count": 1,
   "id": "d1375656",
   "metadata": {},
   "outputs": [],
   "source": [
    "import os\n",
    "import sys\n",
    "module_path = os.path.abspath(os.path.join('../src'))\n",
    "if module_path not in sys.path:\n",
    "    sys.path.append(module_path)"
   ]
  },
  {
   "cell_type": "markdown",
   "id": "314ba581",
   "metadata": {},
   "source": [
    "## Imports"
   ]
  },
  {
   "cell_type": "code",
   "execution_count": 2,
   "id": "faccaffa",
   "metadata": {},
   "outputs": [],
   "source": [
    "import pandas as pd\n",
    "import xml.etree.ElementTree as ET\n",
    "import html\n",
    "import cv2 as cv\n",
    "import numpy as np\n",
    "import matplotlib.pyplot as plt\n",
    "import fastwer\n",
    "import re\n",
    "\n",
    "from typing import Union\n",
    "from pathlib import Path\n",
    "from tqdm import tqdm\n",
    "\n",
    "import transformers\n",
    "from transformers import TrOCRProcessor, VisionEncoderDecoderModel"
   ]
  },
  {
   "cell_type": "markdown",
   "id": "fd1b518e",
   "metadata": {},
   "source": [
    "## Getting the Data\n",
    "The tests are run on the IAM words dataset or the IAM lines dataset. <br>\n",
    "Choose what to test on by setting words or lines to true.\n"
   ]
  },
  {
   "cell_type": "code",
   "execution_count": 3,
   "id": "571cd9a1",
   "metadata": {},
   "outputs": [],
   "source": [
    "words = True\n",
    "lines = False"
   ]
  },
  {
   "cell_type": "markdown",
   "id": "5354d884",
   "metadata": {},
   "source": [
    "### Set Path to IAM folder\n",
    "\n",
    "Inside you need to have the words and/or lines and xml folder.\n",
    "\n",
    "IAM/words <br>\n",
    "IAM/lines <br>\n",
    "IAM/xml"
   ]
  },
  {
   "cell_type": "code",
   "execution_count": 4,
   "id": "6dbd2a63",
   "metadata": {},
   "outputs": [],
   "source": [
    "from data import IAM\n",
    "\n",
    "iam = IAM()"
   ]
  },
  {
   "cell_type": "markdown",
   "id": "a8125e50",
   "metadata": {},
   "source": [
    "### Load word images (paths, img_id and targets) \n",
    "\n",
    "( if you want to test on words )"
   ]
  },
  {
   "cell_type": "code",
   "execution_count": 5,
   "id": "4b9f8995",
   "metadata": {},
   "outputs": [],
   "source": [
    "if words:\n",
    "    words_data = iam.get_words(skip_bad_segmentation=True)\n",
    "    words_data.head()"
   ]
  },
  {
   "cell_type": "code",
   "execution_count": 6,
   "id": "d2b94952",
   "metadata": {},
   "outputs": [
    {
     "name": "stdout",
     "output_type": "stream",
     "text": [
      "Total number of words:  96456\n"
     ]
    }
   ],
   "source": [
    "if words:\n",
    "    print(\"Total number of words: \", len(words_data))"
   ]
  },
  {
   "cell_type": "markdown",
   "id": "bec430a9",
   "metadata": {},
   "source": [
    "#### Get the Aachen Test split"
   ]
  },
  {
   "cell_type": "code",
   "execution_count": 12,
   "id": "2fe5915e",
   "metadata": {},
   "outputs": [
    {
     "name": "stdout",
     "output_type": "stream",
     "text": [
      "Number of words in test set:  20310\n"
     ]
    }
   ],
   "source": [
    "if words:\n",
    "    file = open(\"../data/IAM/aachen_splits/test.uttlist\")\n",
    "    test_ids = file.read().split(\"\\n\")\n",
    "    words_test = words_data[words_data['img_id'].isin(test_ids)]\n",
    "\n",
    "    print(\"Number of words in test set: \", len(words_test))"
   ]
  },
  {
   "cell_type": "markdown",
   "id": "4a680ab2",
   "metadata": {},
   "source": [
    "#### Convert all to lowercase"
   ]
  },
  {
   "cell_type": "code",
   "execution_count": 13,
   "id": "cb1ea0bf",
   "metadata": {},
   "outputs": [],
   "source": [
    "if words:\n",
    "    words_test_lower = words_test.copy()\n",
    "    words_test_lower['target'] = [x.lower() for x in words_test_lower['target']]\n",
    "\n",
    "    words_test_lower.head()"
   ]
  },
  {
   "cell_type": "markdown",
   "id": "2d46bfe9",
   "metadata": {},
   "source": [
    "#### Remove punctuation symbols  [.,:;\\&+-?!\"()*/']\n",
    "Images that only contains punctuation symbols are removed from the dataset."
   ]
  },
  {
   "cell_type": "code",
   "execution_count": 14,
   "id": "341fb507",
   "metadata": {},
   "outputs": [
    {
     "name": "stdout",
     "output_type": "stream",
     "text": [
      "2558 images removed containing only punctutation symbols.\n",
      "New test size:  17752\n",
      "                                                img_path   img_id       target\n",
      "26266  C:\\Users\\Vihoa\\git\\orthographer\\data\\IAM\\words...  c04-110  assuredness\n",
      "26268  C:\\Users\\Vihoa\\git\\orthographer\\data\\IAM\\words...  c04-110        bella\n",
      "26269  C:\\Users\\Vihoa\\git\\orthographer\\data\\IAM\\words...  c04-110        bella\n",
      "26270  C:\\Users\\Vihoa\\git\\orthographer\\data\\IAM\\words...  c04-110        marie\n",
      "26273  C:\\Users\\Vihoa\\git\\orthographer\\data\\IAM\\words...  c04-110   parlophone\n"
     ]
    }
   ],
   "source": [
    "if words:\n",
    "    words_test_filtered = words_test_lower.copy()\n",
    "\n",
    "    # Remove symbols from transcript. Removes everything that isn't a alphanumeric character.\n",
    "    words_test_filtered['target'] = [re.sub(r'[^a-z0-9]', '', x) for x in words_test_filtered['target']]\n",
    "\n",
    "    # Remove images that now has empty target.\n",
    "    orig_data_size = len(words_test_filtered)\n",
    "    words_test_filtered = words_test_filtered[words_test_filtered['target'] != \"\"]\n",
    "    new_data_size = len(words_test_filtered)\n",
    "    \n",
    "    print(\"{} images removed containing only punctutation symbols.\".format(orig_data_size - new_data_size))\n",
    "    print(\"New test size: \", new_data_size)\n",
    "    print(words_test_filtered.head())\n",
    "    \n",
    "    # Let's call this final set simply words_test\n",
    "    words_test = words_test_filtered"
   ]
  },
  {
   "cell_type": "markdown",
   "id": "9af22899",
   "metadata": {},
   "source": [
    "### Get lines images \n",
    "\n",
    "(if you want to test on lines)"
   ]
  },
  {
   "cell_type": "code",
   "execution_count": null,
   "id": "d4dbf03e",
   "metadata": {},
   "outputs": [],
   "source": [
    "if lines:\n",
    "    lines_data = iam.get_lines(skip_bad_segmentation=True)\n",
    "    print(lines_data.head())"
   ]
  },
  {
   "cell_type": "code",
   "execution_count": null,
   "id": "3377f77e",
   "metadata": {},
   "outputs": [],
   "source": [
    "if lines:\n",
    "    print(\"Total number of lines: \", len(lines_data))\n",
    "    print(\"Total number of words: \", sum([len(x.split(\" \")) for x in list(lines_data['target'])]))"
   ]
  },
  {
   "cell_type": "markdown",
   "id": "d3c4e7e2",
   "metadata": {},
   "source": [
    "#### Get the Aachen test split"
   ]
  },
  {
   "cell_type": "code",
   "execution_count": null,
   "id": "a12f83d8",
   "metadata": {},
   "outputs": [],
   "source": [
    "if lines:\n",
    "    file = open(\"../data/IAM/aachen_splits/test.uttlist\")\n",
    "    test_ids = file.read().split(\"\\n\")\n",
    "    lines_test = lines_data[lines_data['img_id'].isin(test_ids)]\n",
    "\n",
    "    print(\"Number of lines in test set: \", len(lines_test))\n",
    "    print(\"Number of words in test set: \", sum([len(x.split(\" \")) for x in list(lines_test['target'])]))"
   ]
  },
  {
   "cell_type": "markdown",
   "id": "dbf530a4",
   "metadata": {},
   "source": [
    "#### Convert all to lower case"
   ]
  },
  {
   "cell_type": "code",
   "execution_count": null,
   "id": "0d89ecd3",
   "metadata": {},
   "outputs": [],
   "source": [
    "if lines:\n",
    "    lines_test_lower = lines_test.copy()\n",
    "    \n",
    "    lines_test_lower['target'] = [x.lower() for x in lines_test_lower['target']]"
   ]
  },
  {
   "cell_type": "code",
   "execution_count": null,
   "id": "173d917e",
   "metadata": {},
   "outputs": [],
   "source": [
    "if lines:\n",
    "    lines_test_filtered = lines_test_lower.copy()\n",
    "\n",
    "    # Remove symbols from transcript. Removes everything that isn't a alphanumeric character.\n",
    "    lines_test_filtered['target'] = [re.sub(r'[^a-z 0-9]', '', x) for x in lines_test_filtered['target']]\n",
    "\n",
    "    # Remove images that now has empty target.\n",
    "    orig_data_size = len(lines_test_filtered)\n",
    "    lines_test_filtered = lines_test_filtered[lines_test_filtered['target'] != \"\"]\n",
    "    new_data_size = len(lines_test_filtered)\n",
    "    \n",
    "    print(lines_test_filtered.head())\n",
    "    \n",
    "    # Let's call this final set simply lines_test\n",
    "    lines_test = lines_test_filtered"
   ]
  },
  {
   "cell_type": "markdown",
   "id": "4824ecb1",
   "metadata": {},
   "source": [
    "### Function to fetch a specific img and it's target\n",
    "\n",
    "OBS, do not use cv.imshow to display images in jupyter notebook as it will probably crash. Use pyplot instead."
   ]
  },
  {
   "cell_type": "code",
   "execution_count": 16,
   "id": "97d8a7c1",
   "metadata": {},
   "outputs": [],
   "source": [
    "def getImage(dataframe, idx):\n",
    "    data = dataframe.iloc[idx]\n",
    "    img = cv.imread(data[\"img_path\"])\n",
    "    \n",
    "    assert isinstance(img, np.ndarray), (\n",
    "        f\"Error: image at path {data['img_path']} is not properly loaded. \"\n",
    "        f\"Is there something wrong with this image?\"\n",
    "    )\n",
    "    \n",
    "    return img, data[\"target\"]"
   ]
  },
  {
   "cell_type": "code",
   "execution_count": 17,
   "id": "140ed123",
   "metadata": {
    "scrolled": true
   },
   "outputs": [
    {
     "data": {
      "image/png": "[encoded data removed]",
      "text/plain": [
       "<Figure size 432x288 with 1 Axes>"
      ]
     },
     "metadata": {
      "needs_background": "light"
     },
     "output_type": "display_data"
    },
    {
     "name": "stdout",
     "output_type": "stream",
     "text": [
      "Target:  bella\n"
     ]
    }
   ],
   "source": [
    "if words:\n",
    "    ex_img, ex_target = getImage(words_test, 1)\n",
    "\n",
    "    plt.imshow(cv.cvtColor(ex_img, cv.COLOR_BGR2RGB))\n",
    "    plt.show()\n",
    "\n",
    "    print(\"Target: \", ex_target)\n",
    "    \n",
    "if lines:\n",
    "    ex_img, ex_target = getImage(lines_test, 1)\n",
    "\n",
    "    plt.imshow(cv.cvtColor(ex_img, cv.COLOR_BGR2RGB))\n",
    "    plt.show()\n",
    "\n",
    "    print(\"Target: \", ex_target)"
   ]
  },
  {
   "cell_type": "markdown",
   "id": "208dee0b",
   "metadata": {},
   "source": [
    "## Model Benchmark"
   ]
  },
  {
   "cell_type": "code",
   "execution_count": 10,
   "id": "bd86705b",
   "metadata": {},
   "outputs": [],
   "source": [
    "def run_benchmark(data_set, model):\n",
    "    size = len(data_set)\n",
    "    \n",
    "    tickmeter = cv.TickMeter()\n",
    "    \n",
    "    result = {\n",
    "        \"img_path\": [], \n",
    "        \"target\": [], \n",
    "        \"pred\": [], \n",
    "        \"cer\": [], \n",
    "        \"wer\": [], \n",
    "        \"inf_time\": []\n",
    "    }\n",
    "    \n",
    "    for i in tqdm(range(size)):\n",
    "        # If file is corrupt, error will be raised.\n",
    "        try:    \n",
    "            img, target = getImage(data_set, i)\n",
    "            img = cv.cvtColor(img, cv.COLOR_BGR2GRAY)\n",
    "            tickmeter.start()\n",
    "            pred, conf = model(img)\n",
    "            tickmeter.stop()\n",
    "            \n",
    "            # Make sure pred are filtered the same way as targets.\n",
    "            pred = pred.lower()\n",
    "            pred = re.sub(r'[^a-z 0-9]', '', pred)\n",
    "            \n",
    "        except Exception as e:\n",
    "            print(\"Problem with index: \", i)\n",
    "            print(\"Exception: \", e)\n",
    "            continue\n",
    "        \n",
    "        cer = fastwer.score_sent(pred, target, char_level=True)\n",
    "        wer = fastwer.score_sent(pred, target)\n",
    "        \n",
    "        inf_time = tickmeter.getTimeMilli()\n",
    "        tickmeter.reset()\n",
    "        \n",
    "        # Fill in result\n",
    "        result['img_path'].append(data_set.iloc[i]['img_path'])\n",
    "        result['target'].append(target.lower())\n",
    "        result['pred'].append(pred)\n",
    "        result['cer'].append(cer)\n",
    "        result['wer'].append(wer)\n",
    "        result['inf_time'].append(inf_time)\n",
    "    \n",
    "    result = pd.DataFrame(result)\n",
    "    \n",
    "    # Make sure cer and wer < 100. (eg if two words were predicted when there is one, wer = 200 %)  \n",
    "    result.loc[result[\"cer\"] > 100, \"cer\"] = 100\n",
    "    result.loc[result[\"wer\"] > 100, \"wer\"] = 100\n",
    "    \n",
    "    return result\n",
    "\n",
    "##########################################################################################################\n",
    "def calc_cer_wer_inf(result):\n",
    "    cer = result['cer'].mean()\n",
    "    wer = result['wer'].mean()\n",
    "    inf_time = result['inf_time'].mean()\n",
    "    \n",
    "    print(\"CER: %.2f, WER: %.2f, Inf: %.2f\" % (cer, wer, inf_time))\n",
    "    \n",
    "    return cer, wer, inf_time"
   ]
  },
  {
   "cell_type": "markdown",
   "id": "ee89ec9a",
   "metadata": {},
   "source": [
    "# Model Evaluation"
   ]
  },
  {
   "cell_type": "code",
   "execution_count": null,
   "id": "27de0a53",
   "metadata": {},
   "outputs": [],
   "source": [
    "models_path = \"../models/TR/\""
   ]
  },
  {
   "cell_type": "markdown",
   "id": "eb7512a8",
   "metadata": {},
   "source": [
    "## ONNX Models Evaluation"
   ]
  },
  {
   "cell_type": "markdown",
   "id": "90ca12a9",
   "metadata": {},
   "source": [
    "### DenseNet_CTC"
   ]
  },
  {
   "cell_type": "code",
   "execution_count": null,
   "id": "7cf23ce1",
   "metadata": {
    "scrolled": true
   },
   "outputs": [],
   "source": [
    "from onnx_model import ONNXModel\n",
    "\n",
    "denseNet_path = models_path + \"DenseNet_CTC.onnx\"\n",
    "\n",
    "denseNet = ONNXModel(model_path=denseNet_path)\n",
    "\n",
    "result_dense = run_benchmark(words_test, denseNet)\n",
    "\n",
    "cer_dense, wer_dense, inf_dense = calc_cer_wer_inf(result_dense)"
   ]
  },
  {
   "cell_type": "code",
   "execution_count": null,
   "id": "9e232929",
   "metadata": {},
   "outputs": [],
   "source": [
    "result_dense.head()"
   ]
  },
  {
   "cell_type": "markdown",
   "id": "8ec3f11a",
   "metadata": {},
   "source": [
    "### ResNet_CTC"
   ]
  },
  {
   "cell_type": "code",
   "execution_count": null,
   "id": "24c993e1",
   "metadata": {},
   "outputs": [],
   "source": [
    "from onnx_model import ONNXModel\n",
    "\n",
    "resNet_path = models_path + \"ResNet_CTC.onnx\"\n",
    "\n",
    "resNet = ONNXModel(model_path=resNet_path)\n",
    "\n",
    "result_res = run_benchmark(words_test, resNet)\n",
    "\n",
    "cer_res, wer_res, inf_res = calc_cer_wer_inf(result_res)"
   ]
  },
  {
   "cell_type": "code",
   "execution_count": null,
   "id": "7382d5ea",
   "metadata": {},
   "outputs": [],
   "source": [
    "result_res.head()"
   ]
  },
  {
   "cell_type": "markdown",
   "id": "29f57094",
   "metadata": {},
   "source": [
    "### CRNN_VGG_BiLSTM_CTC"
   ]
  },
  {
   "cell_type": "code",
   "execution_count": null,
   "id": "c31ebdfd",
   "metadata": {},
   "outputs": [],
   "source": [
    "from onnx_model import ONNXModel\n",
    "\n",
    "crn_path = models_path + \"CRNN_VGG_BiLSTM_CTC.onnx\"\n",
    "\n",
    "crnNet = ONNXModel(model_path=crn_path)\n",
    "\n",
    "result_crn = run_benchmark(words_test, crnNet)\n",
    "\n",
    "cer_crn, wer_crn, inf_crn = calc_cer_wer_inf(result_crn)"
   ]
  },
  {
   "cell_type": "code",
   "execution_count": null,
   "id": "8c1440df",
   "metadata": {},
   "outputs": [],
   "source": [
    "result_crn.head()"
   ]
  },
  {
   "cell_type": "markdown",
   "id": "85e9b486",
   "metadata": {},
   "source": [
    "## Deep Text Recognition Benchmark Models"
   ]
  },
  {
   "cell_type": "markdown",
   "id": "0aab9d24",
   "metadata": {},
   "source": [
    "### OrthoNet\n",
    "\n",
    "OBS. Edit model_builder.py to configure the model for evaluation."
   ]
  },
  {
   "cell_type": "code",
   "execution_count": null,
   "id": "39af97ac",
   "metadata": {
    "scrolled": false
   },
   "outputs": [],
   "source": [
    "import dtrb.model_builder\n",
    "from dtrb.model_builder import create_dtrb_model\n",
    "\n",
    "orthoNet = create_dtrb_model()\n",
    "\n",
    "result_ortho = run_benchmark(words_test, orthoNet)\n",
    "\n",
    "cer_ortho, wer_ortho, inf_ortho = calc_cer_wer_inf(result_ortho)\n",
    "\n",
    "result_ortho.head()"
   ]
  },
  {
   "cell_type": "markdown",
   "id": "2b8f7854",
   "metadata": {},
   "source": [
    "## TrOCR"
   ]
  },
  {
   "cell_type": "code",
   "execution_count": 22,
   "id": "8427389b",
   "metadata": {},
   "outputs": [
    {
     "name": "stdout",
     "output_type": "stream",
     "text": [
      "cuda\n"
     ]
    }
   ],
   "source": [
    "from transformers import TrOCRProcessor, VisionEncoderDecoderModel\n",
    "import torch\n",
    "\n",
    "os.environ[\"CUDA_VISIBLE_DEVICES\"] = \"0\"\n",
    "device = torch.device('cuda' if torch.cuda.is_available() else 'cpu')\n",
    "\n",
    "class TrOCR:\n",
    "    def __init__(self, processor, model):\n",
    "        self.processor = processor\n",
    "        self.model = model\n",
    "    ####################################################################################################\n",
    "    def __call__(self, image):        \n",
    "        \"\"\"Runs text recognition on each image in concat_images. Lengths is the number of words in each image.\"\"\"\n",
    "        image = cv.cvtColor(image, cv.COLOR_GRAY2RGB) # frame to RGB\n",
    "\n",
    "        # Run recognition.\n",
    "        pixel_values = self.processor(images=image, return_tensors=\"pt\").pixel_values\n",
    "        pixel_values = pixel_values.to(device)\n",
    "        generated_ids = self.model.generate(pixel_values)\n",
    "        text = self.processor.batch_decode(generated_ids, skip_special_tokens=True)[0]\n",
    "\n",
    "        return text, 0"
   ]
  },
  {
   "cell_type": "markdown",
   "id": "683c0214",
   "metadata": {},
   "source": [
    "### Small"
   ]
  },
  {
   "cell_type": "code",
   "execution_count": 20,
   "id": "575e1a66",
   "metadata": {
    "scrolled": true
   },
   "outputs": [
    {
     "name": "stderr",
     "output_type": "stream",
     "text": [
      "Some weights of VisionEncoderDecoderModel were not initialized from the model checkpoint at microsoft/trocr-small-handwritten and are newly initialized: ['encoder.pooler.dense.bias', 'encoder.pooler.dense.weight']\n",
      "You should probably TRAIN this model on a down-stream task to be able to use it for predictions and inference.\n"
     ]
    }
   ],
   "source": [
    "processor = TrOCRProcessor.from_pretrained('microsoft/trocr-small-handwritten')\n",
    "model = VisionEncoderDecoderModel.from_pretrained('microsoft/trocr-small-handwritten',  pad_token_id=processor.tokenizer.pad_token_id)\n",
    "\n",
    "trocr = TrOCR(processor, model)"
   ]
  },
  {
   "cell_type": "markdown",
   "id": "fd2f4f62",
   "metadata": {},
   "source": [
    "#### Words Dataset"
   ]
  },
  {
   "cell_type": "code",
   "execution_count": 21,
   "id": "5a5ffec0",
   "metadata": {
    "scrolled": false
   },
   "outputs": [
    {
     "name": "stderr",
     "output_type": "stream",
     "text": [
      "  0%|                                                                               | 14/17752 [00:00<06:42, 44.12it/s]"
     ]
    },
    {
     "name": "stdout",
     "output_type": "stream",
     "text": [
      "Problem with index:  0\n",
      "Exception:  Input type (torch.cuda.FloatTensor) and weight type (torch.FloatTensor) should be the same\n",
      "Problem with index:  1\n",
      "Exception:  Input type (torch.cuda.FloatTensor) and weight type (torch.FloatTensor) should be the same\n",
      "Problem with index:  2\n",
      "Exception:  Input type (torch.cuda.FloatTensor) and weight type (torch.FloatTensor) should be the same\n",
      "Problem with index:  3\n",
      "Exception:  Input type (torch.cuda.FloatTensor) and weight type (torch.FloatTensor) should be the same\n",
      "Problem with index:  4\n",
      "Exception:  Input type (torch.cuda.FloatTensor) and weight type (torch.FloatTensor) should be the same\n",
      "Problem with index:  5\n",
      "Exception:  Input type (torch.cuda.FloatTensor) and weight type (torch.FloatTensor) should be the same\n",
      "Problem with index:  6\n",
      "Exception:  Input type (torch.cuda.FloatTensor) and weight type (torch.FloatTensor) should be the same\n",
      "Problem with index:  7\n",
      "Exception:  Input type (torch.cuda.FloatTensor) and weight type (torch.FloatTensor) should be the same\n",
      "Problem with index:  8\n",
      "Exception:  Input type (torch.cuda.FloatTensor) and weight type (torch.FloatTensor) should be the same\n",
      "Problem with index:  9\n",
      "Exception:  Input type (torch.cuda.FloatTensor) and weight type (torch.FloatTensor) should be the same\n",
      "Problem with index:  10\n",
      "Exception:  Input type (torch.cuda.FloatTensor) and weight type (torch.FloatTensor) should be the same\n",
      "Problem with index:  11\n",
      "Exception:  Input type (torch.cuda.FloatTensor) and weight type (torch.FloatTensor) should be the same\n",
      "Problem with index:  12\n",
      "Exception:  Input type (torch.cuda.FloatTensor) and weight type (torch.FloatTensor) should be the same\n",
      "Problem with index:  13\n",
      "Exception:  Input type (torch.cuda.FloatTensor) and weight type (torch.FloatTensor) should be the same\n",
      "Problem with index:  14\n",
      "Exception:  Input type (torch.cuda.FloatTensor) and weight type (torch.FloatTensor) should be the same\n",
      "Problem with index:  15\n",
      "Exception:  Input type (torch.cuda.FloatTensor) and weight type (torch.FloatTensor) should be the same\n",
      "Problem with index:  16\n",
      "Exception:  Input type (torch.cuda.FloatTensor) and weight type (torch.FloatTensor) should be the same\n",
      "Problem with index:  17\n",
      "Exception:  Input type (torch.cuda.FloatTensor) and weight type (torch.FloatTensor) should be the same\n",
      "Problem with index:  18\n",
      "Exception:  Input type (torch.cuda.FloatTensor) and weight type (torch.FloatTensor) should be the same\n",
      "Problem with index:  19\n",
      "Exception:  Input type (torch.cuda.FloatTensor) and weight type (torch.FloatTensor) should be the same\n",
      "Problem with index:  20\n",
      "Exception:  Input type (torch.cuda.FloatTensor) and weight type (torch.FloatTensor) should be the same\n",
      "Problem with index:  21\n",
      "Exception:  Input type (torch.cuda.FloatTensor) and weight type (torch.FloatTensor) should be the same\n"
     ]
    },
    {
     "name": "stderr",
     "output_type": "stream",
     "text": [
      "  0%|▏                                                                              | 35/17752 [00:00<03:57, 74.73it/s]"
     ]
    },
    {
     "name": "stdout",
     "output_type": "stream",
     "text": [
      "Problem with index:  22\n",
      "Exception:  Input type (torch.cuda.FloatTensor) and weight type (torch.FloatTensor) should be the same\n",
      "Problem with index:  23\n",
      "Exception:  Input type (torch.cuda.FloatTensor) and weight type (torch.FloatTensor) should be the same\n",
      "Problem with index:  24\n",
      "Exception:  Input type (torch.cuda.FloatTensor) and weight type (torch.FloatTensor) should be the same\n",
      "Problem with index:  25\n",
      "Exception:  Input type (torch.cuda.FloatTensor) and weight type (torch.FloatTensor) should be the same\n",
      "Problem with index:  26\n",
      "Exception:  Input type (torch.cuda.FloatTensor) and weight type (torch.FloatTensor) should be the same\n",
      "Problem with index:  27\n",
      "Exception:  Input type (torch.cuda.FloatTensor) and weight type (torch.FloatTensor) should be the same\n",
      "Problem with index:  28\n",
      "Exception:  Input type (torch.cuda.FloatTensor) and weight type (torch.FloatTensor) should be the same\n",
      "Problem with index:  29\n",
      "Exception:  Input type (torch.cuda.FloatTensor) and weight type (torch.FloatTensor) should be the same\n",
      "Problem with index:  30\n",
      "Exception:  Input type (torch.cuda.FloatTensor) and weight type (torch.FloatTensor) should be the same\n",
      "Problem with index:  31\n",
      "Exception:  Input type (torch.cuda.FloatTensor) and weight type (torch.FloatTensor) should be the same\n",
      "Problem with index:  32\n",
      "Exception:  Input type (torch.cuda.FloatTensor) and weight type (torch.FloatTensor) should be the same\n",
      "Problem with index:  33\n",
      "Exception:  Input type (torch.cuda.FloatTensor) and weight type (torch.FloatTensor) should be the same\n",
      "Problem with index:  34\n",
      "Exception:  Input type (torch.cuda.FloatTensor) and weight type (torch.FloatTensor) should be the same\n",
      "Problem with index:  35\n",
      "Exception:  Input type (torch.cuda.FloatTensor) and weight type (torch.FloatTensor) should be the same\n",
      "Problem with index:  36\n",
      "Exception:  Input type (torch.cuda.FloatTensor) and weight type (torch.FloatTensor) should be the same\n",
      "Problem with index:  37\n",
      "Exception:  Input type (torch.cuda.FloatTensor) and weight type (torch.FloatTensor) should be the same\n",
      "Problem with index:  38\n",
      "Exception:  Input type (torch.cuda.FloatTensor) and weight type (torch.FloatTensor) should be the same\n",
      "Problem with index:  39\n",
      "Exception:  Input type (torch.cuda.FloatTensor) and weight type (torch.FloatTensor) should be the same\n",
      "Problem with index:  40\n",
      "Exception:  Input type (torch.cuda.FloatTensor) and weight type (torch.FloatTensor) should be the same\n",
      "Problem with index:  41\n",
      "Exception:  Input type (torch.cuda.FloatTensor) and weight type (torch.FloatTensor) should be the same\n"
     ]
    },
    {
     "name": "stderr",
     "output_type": "stream",
     "text": [
      "  0%|▎                                                                              | 58/17752 [00:00<03:09, 93.56it/s]"
     ]
    },
    {
     "name": "stdout",
     "output_type": "stream",
     "text": [
      "Problem with index:  42\n",
      "Exception:  Input type (torch.cuda.FloatTensor) and weight type (torch.FloatTensor) should be the same\n",
      "Problem with index:  43\n",
      "Exception:  Input type (torch.cuda.FloatTensor) and weight type (torch.FloatTensor) should be the same\n",
      "Problem with index:  44\n",
      "Exception:  Input type (torch.cuda.FloatTensor) and weight type (torch.FloatTensor) should be the same\n",
      "Problem with index:  45\n",
      "Exception:  Input type (torch.cuda.FloatTensor) and weight type (torch.FloatTensor) should be the same\n",
      "Problem with index:  46\n",
      "Exception:  Input type (torch.cuda.FloatTensor) and weight type (torch.FloatTensor) should be the same\n",
      "Problem with index:  47\n",
      "Exception:  Input type (torch.cuda.FloatTensor) and weight type (torch.FloatTensor) should be the same\n",
      "Problem with index:  48\n",
      "Exception:  Input type (torch.cuda.FloatTensor) and weight type (torch.FloatTensor) should be the same\n",
      "Problem with index:  49\n",
      "Exception:  Input type (torch.cuda.FloatTensor) and weight type (torch.FloatTensor) should be the same\n",
      "Problem with index:  50\n",
      "Exception:  Input type (torch.cuda.FloatTensor) and weight type (torch.FloatTensor) should be the same\n",
      "Problem with index:  51\n",
      "Exception:  Input type (torch.cuda.FloatTensor) and weight type (torch.FloatTensor) should be the same\n",
      "Problem with index:  52\n",
      "Exception:  Input type (torch.cuda.FloatTensor) and weight type (torch.FloatTensor) should be the same\n",
      "Problem with index:  53\n",
      "Exception:  Input type (torch.cuda.FloatTensor) and weight type (torch.FloatTensor) should be the same\n",
      "Problem with index:  54\n",
      "Exception:  Input type (torch.cuda.FloatTensor) and weight type (torch.FloatTensor) should be the same\n",
      "Problem with index:  55\n",
      "Exception:  Input type (torch.cuda.FloatTensor) and weight type (torch.FloatTensor) should be the same\n",
      "Problem with index:  56\n",
      "Exception:  Input type (torch.cuda.FloatTensor) and weight type (torch.FloatTensor) should be the same\n",
      "Problem with index:  57\n",
      "Exception:  Input type (torch.cuda.FloatTensor) and weight type (torch.FloatTensor) should be the same\n",
      "Problem with index:  58\n",
      "Exception:  Input type (torch.cuda.FloatTensor) and weight type (torch.FloatTensor) should be the same\n",
      "Problem with index:  59\n",
      "Exception:  Input type (torch.cuda.FloatTensor) and weight type (torch.FloatTensor) should be the same\n",
      "Problem with index:  60\n",
      "Exception:  Input type (torch.cuda.FloatTensor) and weight type (torch.FloatTensor) should be the same\n",
      "Problem with index:  61\n",
      "Exception:  Input type (torch.cuda.FloatTensor) and weight type (torch.FloatTensor) should be the same\n",
      "Problem with index:  62\n",
      "Exception:  Input type (torch.cuda.FloatTensor) and weight type (torch.FloatTensor) should be the same\n"
     ]
    },
    {
     "name": "stderr",
     "output_type": "stream",
     "text": [
      "  0%|▎                                                                             | 82/17752 [00:01<02:49, 104.11it/s]"
     ]
    },
    {
     "name": "stdout",
     "output_type": "stream",
     "text": [
      "Problem with index:  63\n",
      "Exception:  Input type (torch.cuda.FloatTensor) and weight type (torch.FloatTensor) should be the same\n",
      "Problem with index:  64\n",
      "Exception:  Input type (torch.cuda.FloatTensor) and weight type (torch.FloatTensor) should be the same\n",
      "Problem with index:  65\n",
      "Exception:  Input type (torch.cuda.FloatTensor) and weight type (torch.FloatTensor) should be the same\n",
      "Problem with index:  66\n",
      "Exception:  Input type (torch.cuda.FloatTensor) and weight type (torch.FloatTensor) should be the same\n",
      "Problem with index:  67\n",
      "Exception:  Input type (torch.cuda.FloatTensor) and weight type (torch.FloatTensor) should be the same\n",
      "Problem with index:  68\n",
      "Exception:  Input type (torch.cuda.FloatTensor) and weight type (torch.FloatTensor) should be the same\n",
      "Problem with index:  69\n",
      "Exception:  Input type (torch.cuda.FloatTensor) and weight type (torch.FloatTensor) should be the same\n",
      "Problem with index:  70\n",
      "Exception:  Input type (torch.cuda.FloatTensor) and weight type (torch.FloatTensor) should be the same\n",
      "Problem with index:  71\n",
      "Exception:  Input type (torch.cuda.FloatTensor) and weight type (torch.FloatTensor) should be the same\n",
      "Problem with index:  72\n",
      "Exception:  Input type (torch.cuda.FloatTensor) and weight type (torch.FloatTensor) should be the same\n",
      "Problem with index:  73\n",
      "Exception:  Input type (torch.cuda.FloatTensor) and weight type (torch.FloatTensor) should be the same\n",
      "Problem with index:  74\n",
      "Exception:  Input type (torch.cuda.FloatTensor) and weight type (torch.FloatTensor) should be the same\n",
      "Problem with index:  75\n",
      "Exception:  Input type (torch.cuda.FloatTensor) and weight type (torch.FloatTensor) should be the same\n",
      "Problem with index:  76\n",
      "Exception:  Input type (torch.cuda.FloatTensor) and weight type (torch.FloatTensor) should be the same\n",
      "Problem with index:  77\n",
      "Exception:  Input type (torch.cuda.FloatTensor) and weight type (torch.FloatTensor) should be the same\n",
      "Problem with index:  78\n",
      "Exception:  Input type (torch.cuda.FloatTensor) and weight type (torch.FloatTensor) should be the same\n",
      "Problem with index:  79\n",
      "Exception:  Input type (torch.cuda.FloatTensor) and weight type (torch.FloatTensor) should be the same\n",
      "Problem with index:  80\n",
      "Exception:  Input type (torch.cuda.FloatTensor) and weight type (torch.FloatTensor) should be the same\n",
      "Problem with index:  81\n",
      "Exception:  Input type (torch.cuda.FloatTensor) and weight type (torch.FloatTensor) should be the same\n",
      "Problem with index:  82\n",
      "Exception:  Input type (torch.cuda.FloatTensor) and weight type (torch.FloatTensor) should be the same\n",
      "Problem with index:  83\n",
      "Exception:  Input type (torch.cuda.FloatTensor) and weight type (torch.FloatTensor) should be the same\n"
     ]
    },
    {
     "name": "stderr",
     "output_type": "stream",
     "text": [
      "  1%|▍                                                                            | 106/17752 [00:01<02:42, 108.32it/s]"
     ]
    },
    {
     "name": "stdout",
     "output_type": "stream",
     "text": [
      "Problem with index:  84\n",
      "Exception:  Input type (torch.cuda.FloatTensor) and weight type (torch.FloatTensor) should be the same\n",
      "Problem with index:  85\n",
      "Exception:  Input type (torch.cuda.FloatTensor) and weight type (torch.FloatTensor) should be the same\n",
      "Problem with index:  86\n",
      "Exception:  Input type (torch.cuda.FloatTensor) and weight type (torch.FloatTensor) should be the same\n",
      "Problem with index:  87\n",
      "Exception:  Input type (torch.cuda.FloatTensor) and weight type (torch.FloatTensor) should be the same\n",
      "Problem with index:  88\n",
      "Exception:  Input type (torch.cuda.FloatTensor) and weight type (torch.FloatTensor) should be the same\n",
      "Problem with index:  89\n",
      "Exception:  Input type (torch.cuda.FloatTensor) and weight type (torch.FloatTensor) should be the same\n",
      "Problem with index:  90\n",
      "Exception:  Input type (torch.cuda.FloatTensor) and weight type (torch.FloatTensor) should be the same\n",
      "Problem with index:  91\n",
      "Exception:  Input type (torch.cuda.FloatTensor) and weight type (torch.FloatTensor) should be the same\n",
      "Problem with index:  92\n",
      "Exception:  Input type (torch.cuda.FloatTensor) and weight type (torch.FloatTensor) should be the same\n",
      "Problem with index:  93\n",
      "Exception:  Input type (torch.cuda.FloatTensor) and weight type (torch.FloatTensor) should be the same\n",
      "Problem with index:  94\n",
      "Exception:  Input type (torch.cuda.FloatTensor) and weight type (torch.FloatTensor) should be the same\n",
      "Problem with index:  95\n",
      "Exception:  Input type (torch.cuda.FloatTensor) and weight type (torch.FloatTensor) should be the same\n",
      "Problem with index:  96\n",
      "Exception:  Input type (torch.cuda.FloatTensor) and weight type (torch.FloatTensor) should be the same\n",
      "Problem with index:  97\n",
      "Exception:  Input type (torch.cuda.FloatTensor) and weight type (torch.FloatTensor) should be the same\n",
      "Problem with index:  98\n",
      "Exception:  Input type (torch.cuda.FloatTensor) and weight type (torch.FloatTensor) should be the same\n",
      "Problem with index:  99\n",
      "Exception:  Input type (torch.cuda.FloatTensor) and weight type (torch.FloatTensor) should be the same\n",
      "Problem with index:  100\n",
      "Exception:  Input type (torch.cuda.FloatTensor) and weight type (torch.FloatTensor) should be the same\n",
      "Problem with index:  101\n",
      "Exception:  Input type (torch.cuda.FloatTensor) and weight type (torch.FloatTensor) should be the same\n",
      "Problem with index:  102\n",
      "Exception:  Input type (torch.cuda.FloatTensor) and weight type (torch.FloatTensor) should be the same\n",
      "Problem with index:  103\n",
      "Exception:  Input type (torch.cuda.FloatTensor) and weight type (torch.FloatTensor) should be the same\n",
      "Problem with index:  104\n",
      "Exception:  Input type (torch.cuda.FloatTensor) and weight type (torch.FloatTensor) should be the same\n",
      "Problem with index:  105\n",
      "Exception:  Input type (torch.cuda.FloatTensor) and weight type (torch.FloatTensor) should be the same\n"
     ]
    },
    {
     "name": "stderr",
     "output_type": "stream",
     "text": [
      "\r",
      "  1%|▌                                                                            | 118/17752 [00:01<02:43, 108.09it/s]"
     ]
    },
    {
     "name": "stdout",
     "output_type": "stream",
     "text": [
      "Problem with index:  106\n",
      "Exception:  Input type (torch.cuda.FloatTensor) and weight type (torch.FloatTensor) should be the same\n",
      "Problem with index:  107\n",
      "Exception:  Input type (torch.cuda.FloatTensor) and weight type (torch.FloatTensor) should be the same\n",
      "Problem with index:  108\n",
      "Exception:  Input type (torch.cuda.FloatTensor) and weight type (torch.FloatTensor) should be the same\n",
      "Problem with index:  109\n",
      "Exception:  Input type (torch.cuda.FloatTensor) and weight type (torch.FloatTensor) should be the same\n",
      "Problem with index:  110\n",
      "Exception:  Input type (torch.cuda.FloatTensor) and weight type (torch.FloatTensor) should be the same\n",
      "Problem with index:  111\n",
      "Exception:  Input type (torch.cuda.FloatTensor) and weight type (torch.FloatTensor) should be the same\n",
      "Problem with index:  112\n",
      "Exception:  Input type (torch.cuda.FloatTensor) and weight type (torch.FloatTensor) should be the same\n",
      "Problem with index:  113\n",
      "Exception:  Input type (torch.cuda.FloatTensor) and weight type (torch.FloatTensor) should be the same\n",
      "Problem with index:  114\n",
      "Exception:  Input type (torch.cuda.FloatTensor) and weight type (torch.FloatTensor) should be the same\n",
      "Problem with index:  115\n",
      "Exception:  Input type (torch.cuda.FloatTensor) and weight type (torch.FloatTensor) should be the same\n",
      "Problem with index:  116\n",
      "Exception:  Input type (torch.cuda.FloatTensor) and weight type (torch.FloatTensor) should be the same\n",
      "Problem with index:  117\n",
      "Exception:  Input type (torch.cuda.FloatTensor) and weight type (torch.FloatTensor) should be the same\n",
      "Problem with index:  118\n",
      "Exception:  Input type (torch.cuda.FloatTensor) and weight type (torch.FloatTensor) should be the same\n",
      "Problem with index:  119\n",
      "Exception:  Input type (torch.cuda.FloatTensor) and weight type (torch.FloatTensor) should be the same\n",
      "Problem with index:  120\n",
      "Exception:  Input type (torch.cuda.FloatTensor) and weight type (torch.FloatTensor) should be the same\n",
      "Problem with index:  121\n",
      "Exception:  Input type (torch.cuda.FloatTensor) and weight type (torch.FloatTensor) should be the same\n",
      "Problem with index:  122\n",
      "Exception:  Input type (torch.cuda.FloatTensor) and weight type (torch.FloatTensor) should be the same\n",
      "Problem with index:  123\n",
      "Exception:  Input type (torch.cuda.FloatTensor) and weight type (torch.FloatTensor) should be the same\n",
      "Problem with index:  124\n",
      "Exception:  Input type (torch.cuda.FloatTensor) and weight type (torch.FloatTensor) should be the same\n",
      "Problem with index:  125\n",
      "Exception:  Input type (torch.cuda.FloatTensor) and weight type (torch.FloatTensor) should be the same\n",
      "Problem with index:  126\n",
      "Exception:  Input type (torch.cuda.FloatTensor) and weight type (torch.FloatTensor) should be the same\n"
     ]
    },
    {
     "name": "stderr",
     "output_type": "stream",
     "text": [
      "  1%|▌                                                                             | 140/17752 [00:01<03:00, 97.84it/s]"
     ]
    },
    {
     "name": "stdout",
     "output_type": "stream",
     "text": [
      "Problem with index:  127\n",
      "Exception:  Input type (torch.cuda.FloatTensor) and weight type (torch.FloatTensor) should be the same\n",
      "Problem with index:  128\n",
      "Exception:  Input type (torch.cuda.FloatTensor) and weight type (torch.FloatTensor) should be the same\n",
      "Problem with index:  129\n",
      "Exception:  Input type (torch.cuda.FloatTensor) and weight type (torch.FloatTensor) should be the same\n",
      "Problem with index:  130\n",
      "Exception:  Input type (torch.cuda.FloatTensor) and weight type (torch.FloatTensor) should be the same\n",
      "Problem with index:  131\n",
      "Exception:  Input type (torch.cuda.FloatTensor) and weight type (torch.FloatTensor) should be the same\n",
      "Problem with index:  132\n",
      "Exception:  Input type (torch.cuda.FloatTensor) and weight type (torch.FloatTensor) should be the same\n",
      "Problem with index:  133\n",
      "Exception:  Input type (torch.cuda.FloatTensor) and weight type (torch.FloatTensor) should be the same\n",
      "Problem with index:  134\n",
      "Exception:  Input type (torch.cuda.FloatTensor) and weight type (torch.FloatTensor) should be the same\n",
      "Problem with index:  135\n",
      "Exception:  Input type (torch.cuda.FloatTensor) and weight type (torch.FloatTensor) should be the same\n",
      "Problem with index:  136\n",
      "Exception:  Input type (torch.cuda.FloatTensor) and weight type (torch.FloatTensor) should be the same\n",
      "Problem with index:  137\n",
      "Exception:  Input type (torch.cuda.FloatTensor) and weight type (torch.FloatTensor) should be the same\n",
      "Problem with index:  138\n",
      "Exception:  Input type (torch.cuda.FloatTensor) and weight type (torch.FloatTensor) should be the same\n",
      "Problem with index:  139\n",
      "Exception:  Input type (torch.cuda.FloatTensor) and weight type (torch.FloatTensor) should be the same\n",
      "Problem with index:  140\n",
      "Exception:  Input type (torch.cuda.FloatTensor) and weight type (torch.FloatTensor) should be the same\n",
      "Problem with index:  141\n",
      "Exception:  Input type (torch.cuda.FloatTensor) and weight type (torch.FloatTensor) should be the same\n",
      "Problem with index:  142\n",
      "Exception:  Input type (torch.cuda.FloatTensor) and weight type (torch.FloatTensor) should be the same\n",
      "Problem with index:  143\n",
      "Exception:  Input type (torch.cuda.FloatTensor) and weight type (torch.FloatTensor) should be the same\n"
     ]
    },
    {
     "name": "stderr",
     "output_type": "stream",
     "text": [
      "  1%|▋                                                                             | 161/17752 [00:01<03:03, 96.06it/s]"
     ]
    },
    {
     "name": "stdout",
     "output_type": "stream",
     "text": [
      "Problem with index:  144\n",
      "Exception:  Input type (torch.cuda.FloatTensor) and weight type (torch.FloatTensor) should be the same\n",
      "Problem with index:  145\n",
      "Exception:  Input type (torch.cuda.FloatTensor) and weight type (torch.FloatTensor) should be the same\n",
      "Problem with index:  146\n",
      "Exception:  Input type (torch.cuda.FloatTensor) and weight type (torch.FloatTensor) should be the same\n",
      "Problem with index:  147\n",
      "Exception:  Input type (torch.cuda.FloatTensor) and weight type (torch.FloatTensor) should be the same\n",
      "Problem with index:  148\n",
      "Exception:  Input type (torch.cuda.FloatTensor) and weight type (torch.FloatTensor) should be the same\n",
      "Problem with index:  149\n",
      "Exception:  Input type (torch.cuda.FloatTensor) and weight type (torch.FloatTensor) should be the same\n",
      "Problem with index:  150\n",
      "Exception:  Input type (torch.cuda.FloatTensor) and weight type (torch.FloatTensor) should be the same\n",
      "Problem with index:  151\n",
      "Exception:  Input type (torch.cuda.FloatTensor) and weight type (torch.FloatTensor) should be the same\n",
      "Problem with index:  152\n",
      "Exception:  Input type (torch.cuda.FloatTensor) and weight type (torch.FloatTensor) should be the same\n",
      "Problem with index:  153\n",
      "Exception:  Input type (torch.cuda.FloatTensor) and weight type (torch.FloatTensor) should be the same\n",
      "Problem with index:  154\n",
      "Exception:  Input type (torch.cuda.FloatTensor) and weight type (torch.FloatTensor) should be the same\n",
      "Problem with index:  155\n",
      "Exception:  Input type (torch.cuda.FloatTensor) and weight type (torch.FloatTensor) should be the same\n",
      "Problem with index:  156\n",
      "Exception:  Input type (torch.cuda.FloatTensor) and weight type (torch.FloatTensor) should be the same\n",
      "Problem with index:  157\n",
      "Exception:  Input type (torch.cuda.FloatTensor) and weight type (torch.FloatTensor) should be the same\n",
      "Problem with index:  158\n",
      "Exception:  Input type (torch.cuda.FloatTensor) and weight type (torch.FloatTensor) should be the same\n",
      "Problem with index:  159\n",
      "Exception:  Input type (torch.cuda.FloatTensor) and weight type (torch.FloatTensor) should be the same\n",
      "Problem with index:  160\n",
      "Exception:  Input type (torch.cuda.FloatTensor) and weight type (torch.FloatTensor) should be the same\n",
      "Problem with index:  161\n",
      "Exception:  Input type (torch.cuda.FloatTensor) and weight type (torch.FloatTensor) should be the same\n"
     ]
    },
    {
     "name": "stderr",
     "output_type": "stream",
     "text": [
      "\r",
      "  1%|▊                                                                            | 173/17752 [00:01<02:54, 100.60it/s]"
     ]
    },
    {
     "name": "stdout",
     "output_type": "stream",
     "text": [
      "Problem with index:  162\n",
      "Exception:  Input type (torch.cuda.FloatTensor) and weight type (torch.FloatTensor) should be the same\n",
      "Problem with index:  163\n",
      "Exception:  Input type (torch.cuda.FloatTensor) and weight type (torch.FloatTensor) should be the same\n",
      "Problem with index:  164\n",
      "Exception:  Input type (torch.cuda.FloatTensor) and weight type (torch.FloatTensor) should be the same\n",
      "Problem with index:  165\n",
      "Exception:  Input type (torch.cuda.FloatTensor) and weight type (torch.FloatTensor) should be the same\n",
      "Problem with index:  166\n",
      "Exception:  Input type (torch.cuda.FloatTensor) and weight type (torch.FloatTensor) should be the same\n",
      "Problem with index:  167\n",
      "Exception:  Input type (torch.cuda.FloatTensor) and weight type (torch.FloatTensor) should be the same\n",
      "Problem with index:  168\n",
      "Exception:  Input type (torch.cuda.FloatTensor) and weight type (torch.FloatTensor) should be the same\n",
      "Problem with index:  169\n",
      "Exception:  Input type (torch.cuda.FloatTensor) and weight type (torch.FloatTensor) should be the same\n",
      "Problem with index:  170\n",
      "Exception:  Input type (torch.cuda.FloatTensor) and weight type (torch.FloatTensor) should be the same\n",
      "Problem with index:  171\n",
      "Exception:  Input type (torch.cuda.FloatTensor) and weight type (torch.FloatTensor) should be the same\n",
      "Problem with index:  172\n",
      "Exception:  Input type (torch.cuda.FloatTensor) and weight type (torch.FloatTensor) should be the same\n",
      "Problem with index:  173\n",
      "Exception:  Input type (torch.cuda.FloatTensor) and weight type (torch.FloatTensor) should be the same\n",
      "Problem with index:  174\n",
      "Exception:  Input type (torch.cuda.FloatTensor) and weight type (torch.FloatTensor) should be the same\n",
      "Problem with index:  175\n",
      "Exception:  Input type (torch.cuda.FloatTensor) and weight type (torch.FloatTensor) should be the same\n",
      "Problem with index:  176\n",
      "Exception:  Input type (torch.cuda.FloatTensor) and weight type (torch.FloatTensor) should be the same\n",
      "Problem with index:  177\n",
      "Exception:  Input type (torch.cuda.FloatTensor) and weight type (torch.FloatTensor) should be the same\n",
      "Problem with index:  178\n",
      "Exception:  Input type (torch.cuda.FloatTensor) and weight type (torch.FloatTensor) should be the same\n",
      "Problem with index:  179\n",
      "Exception:  Input type (torch.cuda.FloatTensor) and weight type (torch.FloatTensor) should be the same\n",
      "Problem with index:  180\n",
      "Exception:  Input type (torch.cuda.FloatTensor) and weight type (torch.FloatTensor) should be the same\n",
      "Problem with index:  181\n",
      "Exception:  Input type (torch.cuda.FloatTensor) and weight type (torch.FloatTensor) should be the same\n",
      "Problem with index:  182\n",
      "Exception:  Input type (torch.cuda.FloatTensor) and weight type (torch.FloatTensor) should be the same\n"
     ]
    },
    {
     "name": "stderr",
     "output_type": "stream",
     "text": [
      "  1%|▊                                                                            | 197/17752 [00:02<02:42, 107.80it/s]"
     ]
    },
    {
     "name": "stdout",
     "output_type": "stream",
     "text": [
      "Problem with index:  183\n",
      "Exception:  Input type (torch.cuda.FloatTensor) and weight type (torch.FloatTensor) should be the same\n",
      "Problem with index:  184\n",
      "Exception:  Input type (torch.cuda.FloatTensor) and weight type (torch.FloatTensor) should be the same\n",
      "Problem with index:  185\n",
      "Exception:  Input type (torch.cuda.FloatTensor) and weight type (torch.FloatTensor) should be the same\n",
      "Problem with index:  186\n",
      "Exception:  Input type (torch.cuda.FloatTensor) and weight type (torch.FloatTensor) should be the same\n",
      "Problem with index:  187\n",
      "Exception:  Input type (torch.cuda.FloatTensor) and weight type (torch.FloatTensor) should be the same\n",
      "Problem with index:  188\n",
      "Exception:  Input type (torch.cuda.FloatTensor) and weight type (torch.FloatTensor) should be the same\n",
      "Problem with index:  189\n",
      "Exception:  Input type (torch.cuda.FloatTensor) and weight type (torch.FloatTensor) should be the same\n",
      "Problem with index:  190\n",
      "Exception:  Input type (torch.cuda.FloatTensor) and weight type (torch.FloatTensor) should be the same\n",
      "Problem with index:  191\n",
      "Exception:  Input type (torch.cuda.FloatTensor) and weight type (torch.FloatTensor) should be the same\n",
      "Problem with index:  192\n",
      "Exception:  Input type (torch.cuda.FloatTensor) and weight type (torch.FloatTensor) should be the same\n",
      "Problem with index:  193\n",
      "Exception:  Input type (torch.cuda.FloatTensor) and weight type (torch.FloatTensor) should be the same\n",
      "Problem with index:  194\n",
      "Exception:  Input type (torch.cuda.FloatTensor) and weight type (torch.FloatTensor) should be the same\n",
      "Problem with index:  195\n",
      "Exception:  Input type (torch.cuda.FloatTensor) and weight type (torch.FloatTensor) should be the same\n",
      "Problem with index:  196\n",
      "Exception:  Input type (torch.cuda.FloatTensor) and weight type (torch.FloatTensor) should be the same\n",
      "Problem with index:  197\n",
      "Exception:  Input type (torch.cuda.FloatTensor) and weight type (torch.FloatTensor) should be the same\n",
      "Problem with index:  198\n",
      "Exception:  Input type (torch.cuda.FloatTensor) and weight type (torch.FloatTensor) should be the same\n",
      "Problem with index:  199\n",
      "Exception:  Input type (torch.cuda.FloatTensor) and weight type (torch.FloatTensor) should be the same\n",
      "Problem with index:  200\n",
      "Exception:  Input type (torch.cuda.FloatTensor) and weight type (torch.FloatTensor) should be the same\n",
      "Problem with index:  201\n",
      "Exception:  Input type (torch.cuda.FloatTensor) and weight type (torch.FloatTensor) should be the same\n",
      "Problem with index:  202\n",
      "Exception:  Input type (torch.cuda.FloatTensor) and weight type (torch.FloatTensor) should be the same\n",
      "Problem with index:  203\n",
      "Exception:  Input type (torch.cuda.FloatTensor) and weight type (torch.FloatTensor) should be the same\n",
      "Problem with index:  204\n",
      "Exception:  Input type (torch.cuda.FloatTensor) and weight type (torch.FloatTensor) should be the same\n",
      "Problem with index:  205\n",
      "Exception:  Input type (torch.cuda.FloatTensor) and weight type (torch.FloatTensor) should be the same\n"
     ]
    },
    {
     "name": "stderr",
     "output_type": "stream",
     "text": [
      "  1%|▉                                                                            | 222/17752 [00:02<02:33, 114.00it/s]"
     ]
    },
    {
     "name": "stdout",
     "output_type": "stream",
     "text": [
      "Problem with index:  206\n",
      "Exception:  Input type (torch.cuda.FloatTensor) and weight type (torch.FloatTensor) should be the same\n",
      "Problem with index:  207\n",
      "Exception:  Input type (torch.cuda.FloatTensor) and weight type (torch.FloatTensor) should be the same\n",
      "Problem with index:  208\n",
      "Exception:  Input type (torch.cuda.FloatTensor) and weight type (torch.FloatTensor) should be the same\n",
      "Problem with index:  209\n",
      "Exception:  Input type (torch.cuda.FloatTensor) and weight type (torch.FloatTensor) should be the same\n",
      "Problem with index:  210\n",
      "Exception:  Input type (torch.cuda.FloatTensor) and weight type (torch.FloatTensor) should be the same\n",
      "Problem with index:  211\n",
      "Exception:  Input type (torch.cuda.FloatTensor) and weight type (torch.FloatTensor) should be the same\n",
      "Problem with index:  212\n",
      "Exception:  Input type (torch.cuda.FloatTensor) and weight type (torch.FloatTensor) should be the same\n",
      "Problem with index:  213\n",
      "Exception:  Input type (torch.cuda.FloatTensor) and weight type (torch.FloatTensor) should be the same\n",
      "Problem with index:  214\n",
      "Exception:  Input type (torch.cuda.FloatTensor) and weight type (torch.FloatTensor) should be the same\n",
      "Problem with index:  215\n",
      "Exception:  Input type (torch.cuda.FloatTensor) and weight type (torch.FloatTensor) should be the same\n",
      "Problem with index:  216\n",
      "Exception:  Input type (torch.cuda.FloatTensor) and weight type (torch.FloatTensor) should be the same\n",
      "Problem with index:  217\n",
      "Exception:  Input type (torch.cuda.FloatTensor) and weight type (torch.FloatTensor) should be the same\n",
      "Problem with index:  218\n",
      "Exception:  Input type (torch.cuda.FloatTensor) and weight type (torch.FloatTensor) should be the same\n",
      "Problem with index:  219\n",
      "Exception:  Input type (torch.cuda.FloatTensor) and weight type (torch.FloatTensor) should be the same\n",
      "Problem with index:  220\n",
      "Exception:  Input type (torch.cuda.FloatTensor) and weight type (torch.FloatTensor) should be the same\n",
      "Problem with index:  221\n",
      "Exception:  Input type (torch.cuda.FloatTensor) and weight type (torch.FloatTensor) should be the same\n",
      "Problem with index:  222\n",
      "Exception:  Input type (torch.cuda.FloatTensor) and weight type (torch.FloatTensor) should be the same\n",
      "Problem with index:  223\n",
      "Exception:  Input type (torch.cuda.FloatTensor) and weight type (torch.FloatTensor) should be the same\n",
      "Problem with index:  224\n",
      "Exception:  Input type (torch.cuda.FloatTensor) and weight type (torch.FloatTensor) should be the same\n",
      "Problem with index:  225\n",
      "Exception:  Input type (torch.cuda.FloatTensor) and weight type (torch.FloatTensor) should be the same\n",
      "Problem with index:  226\n",
      "Exception:  Input type (torch.cuda.FloatTensor) and weight type (torch.FloatTensor) should be the same\n",
      "Problem with index:  227\n",
      "Exception:  Input type (torch.cuda.FloatTensor) and weight type (torch.FloatTensor) should be the same\n"
     ]
    },
    {
     "name": "stderr",
     "output_type": "stream",
     "text": [
      "  1%|█                                                                            | 246/17752 [00:02<02:36, 111.96it/s]"
     ]
    },
    {
     "name": "stdout",
     "output_type": "stream",
     "text": [
      "Problem with index:  228\n",
      "Exception:  Input type (torch.cuda.FloatTensor) and weight type (torch.FloatTensor) should be the same\n",
      "Problem with index:  229\n",
      "Exception:  Input type (torch.cuda.FloatTensor) and weight type (torch.FloatTensor) should be the same\n",
      "Problem with index:  230\n",
      "Exception:  Input type (torch.cuda.FloatTensor) and weight type (torch.FloatTensor) should be the same\n",
      "Problem with index:  231\n",
      "Exception:  Input type (torch.cuda.FloatTensor) and weight type (torch.FloatTensor) should be the same\n",
      "Problem with index:  232\n",
      "Exception:  Input type (torch.cuda.FloatTensor) and weight type (torch.FloatTensor) should be the same\n",
      "Problem with index:  233\n",
      "Exception:  Input type (torch.cuda.FloatTensor) and weight type (torch.FloatTensor) should be the same\n",
      "Problem with index:  234\n",
      "Exception:  Input type (torch.cuda.FloatTensor) and weight type (torch.FloatTensor) should be the same\n",
      "Problem with index:  235\n",
      "Exception:  Input type (torch.cuda.FloatTensor) and weight type (torch.FloatTensor) should be the same\n",
      "Problem with index:  236\n",
      "Exception:  Input type (torch.cuda.FloatTensor) and weight type (torch.FloatTensor) should be the same\n",
      "Problem with index:  237\n",
      "Exception:  Input type (torch.cuda.FloatTensor) and weight type (torch.FloatTensor) should be the same\n",
      "Problem with index:  238\n",
      "Exception:  Input type (torch.cuda.FloatTensor) and weight type (torch.FloatTensor) should be the same\n",
      "Problem with index:  239\n",
      "Exception:  Input type (torch.cuda.FloatTensor) and weight type (torch.FloatTensor) should be the same\n",
      "Problem with index:  240\n",
      "Exception:  Input type (torch.cuda.FloatTensor) and weight type (torch.FloatTensor) should be the same\n",
      "Problem with index:  241\n",
      "Exception:  Input type (torch.cuda.FloatTensor) and weight type (torch.FloatTensor) should be the same\n",
      "Problem with index:  242\n",
      "Exception:  Input type (torch.cuda.FloatTensor) and weight type (torch.FloatTensor) should be the same\n",
      "Problem with index:  243\n",
      "Exception:  Input type (torch.cuda.FloatTensor) and weight type (torch.FloatTensor) should be the same\n",
      "Problem with index:  244\n",
      "Exception:  Input type (torch.cuda.FloatTensor) and weight type (torch.FloatTensor) should be the same\n",
      "Problem with index:  245\n",
      "Exception:  Input type (torch.cuda.FloatTensor) and weight type (torch.FloatTensor) should be the same\n",
      "Problem with index:  246\n",
      "Exception:  Input type (torch.cuda.FloatTensor) and weight type (torch.FloatTensor) should be the same\n",
      "Problem with index:  247\n",
      "Exception:  Input type (torch.cuda.FloatTensor) and weight type (torch.FloatTensor) should be the same\n"
     ]
    },
    {
     "name": "stderr",
     "output_type": "stream",
     "text": [
      "\r",
      "  1%|█                                                                            | 258/17752 [00:02<02:46, 105.12it/s]"
     ]
    },
    {
     "name": "stdout",
     "output_type": "stream",
     "text": [
      "Problem with index:  248\n",
      "Exception:  Input type (torch.cuda.FloatTensor) and weight type (torch.FloatTensor) should be the same\n",
      "Problem with index:  249\n",
      "Exception:  Input type (torch.cuda.FloatTensor) and weight type (torch.FloatTensor) should be the same\n",
      "Problem with index:  250\n",
      "Exception:  Input type (torch.cuda.FloatTensor) and weight type (torch.FloatTensor) should be the same\n",
      "Problem with index:  251\n",
      "Exception:  Input type (torch.cuda.FloatTensor) and weight type (torch.FloatTensor) should be the same\n",
      "Problem with index:  252\n",
      "Exception:  Input type (torch.cuda.FloatTensor) and weight type (torch.FloatTensor) should be the same\n",
      "Problem with index:  253\n",
      "Exception:  Input type (torch.cuda.FloatTensor) and weight type (torch.FloatTensor) should be the same\n",
      "Problem with index:  254\n",
      "Exception:  Input type (torch.cuda.FloatTensor) and weight type (torch.FloatTensor) should be the same\n",
      "Problem with index:  255\n",
      "Exception:  Input type (torch.cuda.FloatTensor) and weight type (torch.FloatTensor) should be the same\n",
      "Problem with index:  256\n",
      "Exception:  Input type (torch.cuda.FloatTensor) and weight type (torch.FloatTensor) should be the same\n",
      "Problem with index:  257\n",
      "Exception:  Input type (torch.cuda.FloatTensor) and weight type (torch.FloatTensor) should be the same\n",
      "Problem with index:  258\n",
      "Exception:  Input type (torch.cuda.FloatTensor) and weight type (torch.FloatTensor) should be the same\n",
      "Problem with index:  259\n",
      "Exception:  Input type (torch.cuda.FloatTensor) and weight type (torch.FloatTensor) should be the same\n",
      "Problem with index:  260\n",
      "Exception:  Input type (torch.cuda.FloatTensor) and weight type (torch.FloatTensor) should be the same\n",
      "Problem with index:  261\n",
      "Exception:  Input type (torch.cuda.FloatTensor) and weight type (torch.FloatTensor) should be the same\n",
      "Problem with index:  262\n",
      "Exception:  Input type (torch.cuda.FloatTensor) and weight type (torch.FloatTensor) should be the same\n",
      "Problem with index:  263\n",
      "Exception:  Input type (torch.cuda.FloatTensor) and weight type (torch.FloatTensor) should be the same\n",
      "Problem with index:  264\n",
      "Exception:  Input type (torch.cuda.FloatTensor) and weight type (torch.FloatTensor) should be the same\n",
      "Problem with index:  265\n",
      "Exception:  Input type (torch.cuda.FloatTensor) and weight type (torch.FloatTensor) should be the same\n"
     ]
    },
    {
     "name": "stderr",
     "output_type": "stream",
     "text": [
      "  2%|█▏                                                                           | 280/17752 [00:02<02:47, 104.34it/s]"
     ]
    },
    {
     "name": "stdout",
     "output_type": "stream",
     "text": [
      "Problem with index:  266\n",
      "Exception:  Input type (torch.cuda.FloatTensor) and weight type (torch.FloatTensor) should be the same\n",
      "Problem with index:  267\n",
      "Exception:  Input type (torch.cuda.FloatTensor) and weight type (torch.FloatTensor) should be the same\n",
      "Problem with index:  268\n",
      "Exception:  Input type (torch.cuda.FloatTensor) and weight type (torch.FloatTensor) should be the same\n",
      "Problem with index:  269\n",
      "Exception:  Input type (torch.cuda.FloatTensor) and weight type (torch.FloatTensor) should be the same\n",
      "Problem with index:  270\n",
      "Exception:  Input type (torch.cuda.FloatTensor) and weight type (torch.FloatTensor) should be the same\n",
      "Problem with index:  271\n",
      "Exception:  Input type (torch.cuda.FloatTensor) and weight type (torch.FloatTensor) should be the same\n",
      "Problem with index:  272\n",
      "Exception:  Input type (torch.cuda.FloatTensor) and weight type (torch.FloatTensor) should be the same\n",
      "Problem with index:  273\n",
      "Exception:  Input type (torch.cuda.FloatTensor) and weight type (torch.FloatTensor) should be the same\n",
      "Problem with index:  274\n",
      "Exception:  Input type (torch.cuda.FloatTensor) and weight type (torch.FloatTensor) should be the same\n",
      "Problem with index:  275\n",
      "Exception:  Input type (torch.cuda.FloatTensor) and weight type (torch.FloatTensor) should be the same\n",
      "Problem with index:  276\n",
      "Exception:  Input type (torch.cuda.FloatTensor) and weight type (torch.FloatTensor) should be the same\n",
      "Problem with index:  277\n",
      "Exception:  Input type (torch.cuda.FloatTensor) and weight type (torch.FloatTensor) should be the same\n",
      "Problem with index:  278\n",
      "Exception:  Input type (torch.cuda.FloatTensor) and weight type (torch.FloatTensor) should be the same\n",
      "Problem with index:  279\n",
      "Exception:  Input type (torch.cuda.FloatTensor) and weight type (torch.FloatTensor) should be the same\n",
      "Problem with index:  280\n",
      "Exception:  Input type (torch.cuda.FloatTensor) and weight type (torch.FloatTensor) should be the same\n",
      "Problem with index:  281\n",
      "Exception:  Input type (torch.cuda.FloatTensor) and weight type (torch.FloatTensor) should be the same\n",
      "Problem with index:  282\n",
      "Exception:  Input type (torch.cuda.FloatTensor) and weight type (torch.FloatTensor) should be the same\n",
      "Problem with index:  283\n",
      "Exception:  Input type (torch.cuda.FloatTensor) and weight type (torch.FloatTensor) should be the same\n",
      "Problem with index:  284\n",
      "Exception:  Input type (torch.cuda.FloatTensor) and weight type (torch.FloatTensor) should be the same\n",
      "Problem with index:  285\n",
      "Exception:  Input type (torch.cuda.FloatTensor) and weight type (torch.FloatTensor) should be the same\n",
      "Problem with index:  286\n",
      "Exception:  Input type (torch.cuda.FloatTensor) and weight type (torch.FloatTensor) should be the same\n"
     ]
    },
    {
     "name": "stderr",
     "output_type": "stream",
     "text": [
      "  2%|█▎                                                                           | 302/17752 [00:03<02:46, 105.01it/s]"
     ]
    },
    {
     "name": "stdout",
     "output_type": "stream",
     "text": [
      "Problem with index:  287\n",
      "Exception:  Input type (torch.cuda.FloatTensor) and weight type (torch.FloatTensor) should be the same\n",
      "Problem with index:  288\n",
      "Exception:  Input type (torch.cuda.FloatTensor) and weight type (torch.FloatTensor) should be the same\n",
      "Problem with index:  289\n",
      "Exception:  Input type (torch.cuda.FloatTensor) and weight type (torch.FloatTensor) should be the same\n",
      "Problem with index:  290\n",
      "Exception:  Input type (torch.cuda.FloatTensor) and weight type (torch.FloatTensor) should be the same\n",
      "Problem with index:  291\n",
      "Exception:  Input type (torch.cuda.FloatTensor) and weight type (torch.FloatTensor) should be the same\n",
      "Problem with index:  292\n",
      "Exception:  Input type (torch.cuda.FloatTensor) and weight type (torch.FloatTensor) should be the same\n",
      "Problem with index:  293\n",
      "Exception:  Input type (torch.cuda.FloatTensor) and weight type (torch.FloatTensor) should be the same\n",
      "Problem with index:  294\n",
      "Exception:  Input type (torch.cuda.FloatTensor) and weight type (torch.FloatTensor) should be the same\n",
      "Problem with index:  295\n",
      "Exception:  Input type (torch.cuda.FloatTensor) and weight type (torch.FloatTensor) should be the same\n",
      "Problem with index:  296\n",
      "Exception:  Input type (torch.cuda.FloatTensor) and weight type (torch.FloatTensor) should be the same\n",
      "Problem with index:  297\n",
      "Exception:  Input type (torch.cuda.FloatTensor) and weight type (torch.FloatTensor) should be the same\n",
      "Problem with index:  298\n",
      "Exception:  Input type (torch.cuda.FloatTensor) and weight type (torch.FloatTensor) should be the same\n",
      "Problem with index:  299\n",
      "Exception:  Input type (torch.cuda.FloatTensor) and weight type (torch.FloatTensor) should be the same\n",
      "Problem with index:  300\n",
      "Exception:  Input type (torch.cuda.FloatTensor) and weight type (torch.FloatTensor) should be the same\n",
      "Problem with index:  301\n",
      "Exception:  Input type (torch.cuda.FloatTensor) and weight type (torch.FloatTensor) should be the same\n",
      "Problem with index:  302\n",
      "Exception:  Input type (torch.cuda.FloatTensor) and weight type (torch.FloatTensor) should be the same\n",
      "Problem with index:  303\n",
      "Exception:  Input type (torch.cuda.FloatTensor) and weight type (torch.FloatTensor) should be the same\n",
      "Problem with index:  304\n",
      "Exception:  Input type (torch.cuda.FloatTensor) and weight type (torch.FloatTensor) should be the same\n",
      "Problem with index:  305\n",
      "Exception:  Input type (torch.cuda.FloatTensor) and weight type (torch.FloatTensor) should be the same\n",
      "Problem with index:  306\n",
      "Exception:  Input type (torch.cuda.FloatTensor) and weight type (torch.FloatTensor) should be the same\n"
     ]
    },
    {
     "name": "stderr",
     "output_type": "stream",
     "text": [
      "  2%|█▍                                                                           | 327/17752 [00:03<02:37, 110.41it/s]"
     ]
    },
    {
     "name": "stdout",
     "output_type": "stream",
     "text": [
      "Problem with index:  307\n",
      "Exception:  Input type (torch.cuda.FloatTensor) and weight type (torch.FloatTensor) should be the same\n",
      "Problem with index:  308\n",
      "Exception:  Input type (torch.cuda.FloatTensor) and weight type (torch.FloatTensor) should be the same\n",
      "Problem with index:  309\n",
      "Exception:  Input type (torch.cuda.FloatTensor) and weight type (torch.FloatTensor) should be the same\n",
      "Problem with index:  310\n",
      "Exception:  Input type (torch.cuda.FloatTensor) and weight type (torch.FloatTensor) should be the same\n",
      "Problem with index:  311\n",
      "Exception:  Input type (torch.cuda.FloatTensor) and weight type (torch.FloatTensor) should be the same\n",
      "Problem with index:  312\n",
      "Exception:  Input type (torch.cuda.FloatTensor) and weight type (torch.FloatTensor) should be the same\n",
      "Problem with index:  313\n",
      "Exception:  Input type (torch.cuda.FloatTensor) and weight type (torch.FloatTensor) should be the same\n",
      "Problem with index:  314\n",
      "Exception:  Input type (torch.cuda.FloatTensor) and weight type (torch.FloatTensor) should be the same\n",
      "Problem with index:  315\n",
      "Exception:  Input type (torch.cuda.FloatTensor) and weight type (torch.FloatTensor) should be the same\n",
      "Problem with index:  316\n",
      "Exception:  Input type (torch.cuda.FloatTensor) and weight type (torch.FloatTensor) should be the same\n",
      "Problem with index:  317\n",
      "Exception:  Input type (torch.cuda.FloatTensor) and weight type (torch.FloatTensor) should be the same\n",
      "Problem with index:  318\n",
      "Exception:  Input type (torch.cuda.FloatTensor) and weight type (torch.FloatTensor) should be the same\n",
      "Problem with index:  319\n",
      "Exception:  Input type (torch.cuda.FloatTensor) and weight type (torch.FloatTensor) should be the same\n",
      "Problem with index:  320\n",
      "Exception:  Input type (torch.cuda.FloatTensor) and weight type (torch.FloatTensor) should be the same\n",
      "Problem with index:  321\n",
      "Exception:  Input type (torch.cuda.FloatTensor) and weight type (torch.FloatTensor) should be the same\n",
      "Problem with index:  322\n",
      "Exception:  Input type (torch.cuda.FloatTensor) and weight type (torch.FloatTensor) should be the same\n",
      "Problem with index:  323\n",
      "Exception:  Input type (torch.cuda.FloatTensor) and weight type (torch.FloatTensor) should be the same\n",
      "Problem with index:  324\n",
      "Exception:  Input type (torch.cuda.FloatTensor) and weight type (torch.FloatTensor) should be the same\n",
      "Problem with index:  325\n",
      "Exception:  Input type (torch.cuda.FloatTensor) and weight type (torch.FloatTensor) should be the same\n",
      "Problem with index:  326\n",
      "Exception:  Input type (torch.cuda.FloatTensor) and weight type (torch.FloatTensor) should be the same\n",
      "Problem with index:  327\n",
      "Exception:  Input type (torch.cuda.FloatTensor) and weight type (torch.FloatTensor) should be the same\n",
      "Problem with index:  328\n",
      "Exception:  Input type (torch.cuda.FloatTensor) and weight type (torch.FloatTensor) should be the same\n"
     ]
    },
    {
     "name": "stderr",
     "output_type": "stream",
     "text": [
      "\r",
      "  2%|█▍                                                                           | 339/17752 [00:03<02:38, 109.73it/s]"
     ]
    },
    {
     "name": "stdout",
     "output_type": "stream",
     "text": [
      "Problem with index:  329\n",
      "Exception:  Input type (torch.cuda.FloatTensor) and weight type (torch.FloatTensor) should be the same\n",
      "Problem with index:  330\n",
      "Exception:  Input type (torch.cuda.FloatTensor) and weight type (torch.FloatTensor) should be the same\n",
      "Problem with index:  331\n",
      "Exception:  Input type (torch.cuda.FloatTensor) and weight type (torch.FloatTensor) should be the same\n",
      "Problem with index:  332\n",
      "Exception:  Input type (torch.cuda.FloatTensor) and weight type (torch.FloatTensor) should be the same\n",
      "Problem with index:  333\n",
      "Exception:  Input type (torch.cuda.FloatTensor) and weight type (torch.FloatTensor) should be the same\n",
      "Problem with index:  334\n",
      "Exception:  Input type (torch.cuda.FloatTensor) and weight type (torch.FloatTensor) should be the same\n",
      "Problem with index:  335\n",
      "Exception:  Input type (torch.cuda.FloatTensor) and weight type (torch.FloatTensor) should be the same\n",
      "Problem with index:  336\n",
      "Exception:  Input type (torch.cuda.FloatTensor) and weight type (torch.FloatTensor) should be the same\n",
      "Problem with index:  337\n",
      "Exception:  Input type (torch.cuda.FloatTensor) and weight type (torch.FloatTensor) should be the same\n",
      "Problem with index:  338\n",
      "Exception:  Input type (torch.cuda.FloatTensor) and weight type (torch.FloatTensor) should be the same\n",
      "Problem with index:  339\n",
      "Exception:  Input type (torch.cuda.FloatTensor) and weight type (torch.FloatTensor) should be the same\n",
      "Problem with index:  340\n",
      "Exception:  Input type (torch.cuda.FloatTensor) and weight type (torch.FloatTensor) should be the same\n",
      "Problem with index:  341\n",
      "Exception:  Input type (torch.cuda.FloatTensor) and weight type (torch.FloatTensor) should be the same\n",
      "Problem with index:  342\n",
      "Exception:  Input type (torch.cuda.FloatTensor) and weight type (torch.FloatTensor) should be the same\n",
      "Problem with index:  343\n",
      "Exception:  Input type (torch.cuda.FloatTensor) and weight type (torch.FloatTensor) should be the same\n",
      "Problem with index:  344\n",
      "Exception:  Input type (torch.cuda.FloatTensor) and weight type (torch.FloatTensor) should be the same\n",
      "Problem with index:  345\n",
      "Exception:  Input type (torch.cuda.FloatTensor) and weight type (torch.FloatTensor) should be the same\n",
      "Problem with index:  346\n",
      "Exception:  Input type (torch.cuda.FloatTensor) and weight type (torch.FloatTensor) should be the same\n",
      "Problem with index:  347\n",
      "Exception:  Input type (torch.cuda.FloatTensor) and weight type (torch.FloatTensor) should be the same\n",
      "Problem with index:  348\n",
      "Exception:  Input type (torch.cuda.FloatTensor) and weight type (torch.FloatTensor) should be the same\n",
      "Problem with index:  349\n",
      "Exception:  Input type (torch.cuda.FloatTensor) and weight type (torch.FloatTensor) should be the same\n"
     ]
    },
    {
     "name": "stderr",
     "output_type": "stream",
     "text": [
      "  2%|█▌                                                                           | 363/17752 [00:03<02:37, 110.19it/s]"
     ]
    },
    {
     "name": "stdout",
     "output_type": "stream",
     "text": [
      "Problem with index:  350\n",
      "Exception:  Input type (torch.cuda.FloatTensor) and weight type (torch.FloatTensor) should be the same\n",
      "Problem with index:  351\n",
      "Exception:  Input type (torch.cuda.FloatTensor) and weight type (torch.FloatTensor) should be the same\n",
      "Problem with index:  352\n",
      "Exception:  Input type (torch.cuda.FloatTensor) and weight type (torch.FloatTensor) should be the same\n",
      "Problem with index:  353\n",
      "Exception:  Input type (torch.cuda.FloatTensor) and weight type (torch.FloatTensor) should be the same\n",
      "Problem with index:  354\n",
      "Exception:  Input type (torch.cuda.FloatTensor) and weight type (torch.FloatTensor) should be the same\n",
      "Problem with index:  355\n",
      "Exception:  Input type (torch.cuda.FloatTensor) and weight type (torch.FloatTensor) should be the same\n",
      "Problem with index:  356\n",
      "Exception:  Input type (torch.cuda.FloatTensor) and weight type (torch.FloatTensor) should be the same\n",
      "Problem with index:  357\n",
      "Exception:  Input type (torch.cuda.FloatTensor) and weight type (torch.FloatTensor) should be the same\n",
      "Problem with index:  358\n",
      "Exception:  Input type (torch.cuda.FloatTensor) and weight type (torch.FloatTensor) should be the same\n",
      "Problem with index:  359\n",
      "Exception:  Input type (torch.cuda.FloatTensor) and weight type (torch.FloatTensor) should be the same\n",
      "Problem with index:  360\n",
      "Exception:  Input type (torch.cuda.FloatTensor) and weight type (torch.FloatTensor) should be the same\n",
      "Problem with index:  361\n",
      "Exception:  Input type (torch.cuda.FloatTensor) and weight type (torch.FloatTensor) should be the same\n",
      "Problem with index:  362\n",
      "Exception:  Input type (torch.cuda.FloatTensor) and weight type (torch.FloatTensor) should be the same\n",
      "Problem with index:  363\n",
      "Exception:  Input type (torch.cuda.FloatTensor) and weight type (torch.FloatTensor) should be the same\n",
      "Problem with index:  364\n",
      "Exception:  Input type (torch.cuda.FloatTensor) and weight type (torch.FloatTensor) should be the same\n",
      "Problem with index:  365\n",
      "Exception:  Input type (torch.cuda.FloatTensor) and weight type (torch.FloatTensor) should be the same\n",
      "Problem with index:  366\n",
      "Exception:  Input type (torch.cuda.FloatTensor) and weight type (torch.FloatTensor) should be the same\n",
      "Problem with index:  367\n",
      "Exception:  Input type (torch.cuda.FloatTensor) and weight type (torch.FloatTensor) should be the same\n",
      "Problem with index:  368\n",
      "Exception:  Input type (torch.cuda.FloatTensor) and weight type (torch.FloatTensor) should be the same\n",
      "Problem with index:  369\n",
      "Exception:  Input type (torch.cuda.FloatTensor) and weight type (torch.FloatTensor) should be the same\n"
     ]
    },
    {
     "name": "stderr",
     "output_type": "stream",
     "text": [
      "  2%|█▋                                                                           | 387/17752 [00:03<02:39, 109.14it/s]"
     ]
    },
    {
     "name": "stdout",
     "output_type": "stream",
     "text": [
      "Problem with index:  370\n",
      "Exception:  Input type (torch.cuda.FloatTensor) and weight type (torch.FloatTensor) should be the same\n",
      "Problem with index:  371\n",
      "Exception:  Input type (torch.cuda.FloatTensor) and weight type (torch.FloatTensor) should be the same\n",
      "Problem with index:  372\n",
      "Exception:  Input type (torch.cuda.FloatTensor) and weight type (torch.FloatTensor) should be the same\n",
      "Problem with index:  373\n",
      "Exception:  Input type (torch.cuda.FloatTensor) and weight type (torch.FloatTensor) should be the same\n",
      "Problem with index:  374\n",
      "Exception:  Input type (torch.cuda.FloatTensor) and weight type (torch.FloatTensor) should be the same\n",
      "Problem with index:  375\n",
      "Exception:  Input type (torch.cuda.FloatTensor) and weight type (torch.FloatTensor) should be the same\n",
      "Problem with index:  376\n",
      "Exception:  Input type (torch.cuda.FloatTensor) and weight type (torch.FloatTensor) should be the same\n",
      "Problem with index:  377\n",
      "Exception:  Input type (torch.cuda.FloatTensor) and weight type (torch.FloatTensor) should be the same\n",
      "Problem with index:  378\n",
      "Exception:  Input type (torch.cuda.FloatTensor) and weight type (torch.FloatTensor) should be the same\n",
      "Problem with index:  379\n",
      "Exception:  Input type (torch.cuda.FloatTensor) and weight type (torch.FloatTensor) should be the same\n",
      "Problem with index:  380\n",
      "Exception:  Input type (torch.cuda.FloatTensor) and weight type (torch.FloatTensor) should be the same\n",
      "Problem with index:  381\n",
      "Exception:  Input type (torch.cuda.FloatTensor) and weight type (torch.FloatTensor) should be the same\n",
      "Problem with index:  382\n",
      "Exception:  Input type (torch.cuda.FloatTensor) and weight type (torch.FloatTensor) should be the same\n",
      "Problem with index:  383\n",
      "Exception:  Input type (torch.cuda.FloatTensor) and weight type (torch.FloatTensor) should be the same\n",
      "Problem with index:  384\n",
      "Exception:  Input type (torch.cuda.FloatTensor) and weight type (torch.FloatTensor) should be the same\n",
      "Problem with index:  385\n",
      "Exception:  Input type (torch.cuda.FloatTensor) and weight type (torch.FloatTensor) should be the same\n",
      "Problem with index:  386\n",
      "Exception:  Input type (torch.cuda.FloatTensor) and weight type (torch.FloatTensor) should be the same\n",
      "Problem with index:  387\n",
      "Exception:  Input type (torch.cuda.FloatTensor) and weight type (torch.FloatTensor) should be the same\n",
      "Problem with index:  388\n",
      "Exception:  Input type (torch.cuda.FloatTensor) and weight type (torch.FloatTensor) should be the same\n",
      "Problem with index:  389\n",
      "Exception:  Input type (torch.cuda.FloatTensor) and weight type (torch.FloatTensor) should be the same\n"
     ]
    },
    {
     "name": "stderr",
     "output_type": "stream",
     "text": [
      "\r",
      "  2%|█▋                                                                            | 398/17752 [00:04<02:54, 99.23it/s]"
     ]
    },
    {
     "name": "stdout",
     "output_type": "stream",
     "text": [
      "Problem with index:  390\n",
      "Exception:  Input type (torch.cuda.FloatTensor) and weight type (torch.FloatTensor) should be the same\n",
      "Problem with index:  391\n",
      "Exception:  Input type (torch.cuda.FloatTensor) and weight type (torch.FloatTensor) should be the same\n",
      "Problem with index:  392\n",
      "Exception:  Input type (torch.cuda.FloatTensor) and weight type (torch.FloatTensor) should be the same\n",
      "Problem with index:  393\n",
      "Exception:  Input type (torch.cuda.FloatTensor) and weight type (torch.FloatTensor) should be the same\n",
      "Problem with index:  394\n",
      "Exception:  Input type (torch.cuda.FloatTensor) and weight type (torch.FloatTensor) should be the same\n",
      "Problem with index:  395\n",
      "Exception:  Input type (torch.cuda.FloatTensor) and weight type (torch.FloatTensor) should be the same\n",
      "Problem with index:  396\n",
      "Exception:  Input type (torch.cuda.FloatTensor) and weight type (torch.FloatTensor) should be the same\n",
      "Problem with index:  397\n",
      "Exception:  Input type (torch.cuda.FloatTensor) and weight type (torch.FloatTensor) should be the same\n",
      "Problem with index:  398\n",
      "Exception:  Input type (torch.cuda.FloatTensor) and weight type (torch.FloatTensor) should be the same\n",
      "Problem with index:  399\n",
      "Exception:  Input type (torch.cuda.FloatTensor) and weight type (torch.FloatTensor) should be the same\n",
      "Problem with index:  400\n",
      "Exception:  Input type (torch.cuda.FloatTensor) and weight type (torch.FloatTensor) should be the same\n",
      "Problem with index:  401\n",
      "Exception:  Input type (torch.cuda.FloatTensor) and weight type (torch.FloatTensor) should be the same\n",
      "Problem with index:  402\n",
      "Exception:  Input type (torch.cuda.FloatTensor) and weight type (torch.FloatTensor) should be the same\n",
      "Problem with index:  403\n",
      "Exception:  Input type (torch.cuda.FloatTensor) and weight type (torch.FloatTensor) should be the same\n",
      "Problem with index:  404\n",
      "Exception:  Input type (torch.cuda.FloatTensor) and weight type (torch.FloatTensor) should be the same\n",
      "Problem with index:  405\n",
      "Exception:  Input type (torch.cuda.FloatTensor) and weight type (torch.FloatTensor) should be the same\n",
      "Problem with index:  406\n",
      "Exception:  Input type (torch.cuda.FloatTensor) and weight type (torch.FloatTensor) should be the same\n",
      "Problem with index:  407\n",
      "Exception:  Input type (torch.cuda.FloatTensor) and weight type (torch.FloatTensor) should be the same\n",
      "Problem with index:  408\n",
      "Exception:  Input type (torch.cuda.FloatTensor) and weight type (torch.FloatTensor) should be the same\n"
     ]
    },
    {
     "name": "stderr",
     "output_type": "stream",
     "text": [
      "  2%|█▊                                                                           | 422/17752 [00:04<02:41, 107.01it/s]"
     ]
    },
    {
     "name": "stdout",
     "output_type": "stream",
     "text": [
      "Problem with index:  409\n",
      "Exception:  Input type (torch.cuda.FloatTensor) and weight type (torch.FloatTensor) should be the same\n",
      "Problem with index:  410\n",
      "Exception:  Input type (torch.cuda.FloatTensor) and weight type (torch.FloatTensor) should be the same\n",
      "Problem with index:  411\n",
      "Exception:  Input type (torch.cuda.FloatTensor) and weight type (torch.FloatTensor) should be the same\n",
      "Problem with index:  412\n",
      "Exception:  Input type (torch.cuda.FloatTensor) and weight type (torch.FloatTensor) should be the same\n",
      "Problem with index:  413\n",
      "Exception:  Input type (torch.cuda.FloatTensor) and weight type (torch.FloatTensor) should be the same\n",
      "Problem with index:  414\n",
      "Exception:  Input type (torch.cuda.FloatTensor) and weight type (torch.FloatTensor) should be the same\n",
      "Problem with index:  415\n",
      "Exception:  Input type (torch.cuda.FloatTensor) and weight type (torch.FloatTensor) should be the same\n",
      "Problem with index:  416\n",
      "Exception:  Input type (torch.cuda.FloatTensor) and weight type (torch.FloatTensor) should be the same\n",
      "Problem with index:  417\n",
      "Exception:  Input type (torch.cuda.FloatTensor) and weight type (torch.FloatTensor) should be the same\n",
      "Problem with index:  418\n",
      "Exception:  Input type (torch.cuda.FloatTensor) and weight type (torch.FloatTensor) should be the same\n",
      "Problem with index:  419\n",
      "Exception:  Input type (torch.cuda.FloatTensor) and weight type (torch.FloatTensor) should be the same\n",
      "Problem with index:  420\n",
      "Exception:  Input type (torch.cuda.FloatTensor) and weight type (torch.FloatTensor) should be the same\n",
      "Problem with index:  421\n",
      "Exception:  Input type (torch.cuda.FloatTensor) and weight type (torch.FloatTensor) should be the same\n",
      "Problem with index:  422\n",
      "Exception:  Input type (torch.cuda.FloatTensor) and weight type (torch.FloatTensor) should be the same\n",
      "Problem with index:  423\n",
      "Exception:  Input type (torch.cuda.FloatTensor) and weight type (torch.FloatTensor) should be the same\n",
      "Problem with index:  424\n",
      "Exception:  Input type (torch.cuda.FloatTensor) and weight type (torch.FloatTensor) should be the same\n",
      "Problem with index:  425\n",
      "Exception:  Input type (torch.cuda.FloatTensor) and weight type (torch.FloatTensor) should be the same\n",
      "Problem with index:  426\n",
      "Exception:  Input type (torch.cuda.FloatTensor) and weight type (torch.FloatTensor) should be the same\n",
      "Problem with index:  427\n",
      "Exception:  Input type (torch.cuda.FloatTensor) and weight type (torch.FloatTensor) should be the same\n",
      "Problem with index:  428\n",
      "Exception:  Input type (torch.cuda.FloatTensor) and weight type (torch.FloatTensor) should be the same\n",
      "Problem with index:  429\n",
      "Exception:  Input type (torch.cuda.FloatTensor) and weight type (torch.FloatTensor) should be the same\n",
      "Problem with index:  430\n",
      "Exception:  Input type (torch.cuda.FloatTensor) and weight type (torch.FloatTensor) should be the same\n"
     ]
    },
    {
     "name": "stderr",
     "output_type": "stream",
     "text": [
      "  3%|█▉                                                                           | 445/17752 [00:04<02:46, 103.83it/s]"
     ]
    },
    {
     "name": "stdout",
     "output_type": "stream",
     "text": [
      "Problem with index:  431\n",
      "Exception:  Input type (torch.cuda.FloatTensor) and weight type (torch.FloatTensor) should be the same\n",
      "Problem with index:  432\n",
      "Exception:  Input type (torch.cuda.FloatTensor) and weight type (torch.FloatTensor) should be the same\n",
      "Problem with index:  433\n",
      "Exception:  Input type (torch.cuda.FloatTensor) and weight type (torch.FloatTensor) should be the same\n",
      "Problem with index:  434\n",
      "Exception:  Input type (torch.cuda.FloatTensor) and weight type (torch.FloatTensor) should be the same\n",
      "Problem with index:  435\n",
      "Exception:  Input type (torch.cuda.FloatTensor) and weight type (torch.FloatTensor) should be the same\n",
      "Problem with index:  436\n",
      "Exception:  Input type (torch.cuda.FloatTensor) and weight type (torch.FloatTensor) should be the same\n",
      "Problem with index:  437\n",
      "Exception:  Input type (torch.cuda.FloatTensor) and weight type (torch.FloatTensor) should be the same\n",
      "Problem with index:  438\n",
      "Exception:  Input type (torch.cuda.FloatTensor) and weight type (torch.FloatTensor) should be the same\n",
      "Problem with index:  439\n",
      "Exception:  Input type (torch.cuda.FloatTensor) and weight type (torch.FloatTensor) should be the same\n",
      "Problem with index:  440\n",
      "Exception:  Input type (torch.cuda.FloatTensor) and weight type (torch.FloatTensor) should be the same\n",
      "Problem with index:  441\n",
      "Exception:  Input type (torch.cuda.FloatTensor) and weight type (torch.FloatTensor) should be the same\n",
      "Problem with index:  442\n",
      "Exception:  Input type (torch.cuda.FloatTensor) and weight type (torch.FloatTensor) should be the same\n",
      "Problem with index:  443\n",
      "Exception:  Input type (torch.cuda.FloatTensor) and weight type (torch.FloatTensor) should be the same\n",
      "Problem with index:  444\n",
      "Exception:  Input type (torch.cuda.FloatTensor) and weight type (torch.FloatTensor) should be the same\n",
      "Problem with index:  445\n",
      "Exception:  Input type (torch.cuda.FloatTensor) and weight type (torch.FloatTensor) should be the same\n",
      "Problem with index:  446\n",
      "Exception:  Input type (torch.cuda.FloatTensor) and weight type (torch.FloatTensor) should be the same\n",
      "Problem with index:  447\n",
      "Exception:  Input type (torch.cuda.FloatTensor) and weight type (torch.FloatTensor) should be the same\n"
     ]
    },
    {
     "name": "stderr",
     "output_type": "stream",
     "text": [
      "  3%|██                                                                            | 466/17752 [00:04<02:57, 97.64it/s]"
     ]
    },
    {
     "name": "stdout",
     "output_type": "stream",
     "text": [
      "Problem with index:  448\n",
      "Exception:  Input type (torch.cuda.FloatTensor) and weight type (torch.FloatTensor) should be the same\n",
      "Problem with index:  449\n",
      "Exception:  Input type (torch.cuda.FloatTensor) and weight type (torch.FloatTensor) should be the same\n",
      "Problem with index:  450\n",
      "Exception:  Input type (torch.cuda.FloatTensor) and weight type (torch.FloatTensor) should be the same\n",
      "Problem with index:  451\n",
      "Exception:  Input type (torch.cuda.FloatTensor) and weight type (torch.FloatTensor) should be the same\n",
      "Problem with index:  452\n",
      "Exception:  Input type (torch.cuda.FloatTensor) and weight type (torch.FloatTensor) should be the same\n",
      "Problem with index:  453\n",
      "Exception:  Input type (torch.cuda.FloatTensor) and weight type (torch.FloatTensor) should be the same\n",
      "Problem with index:  454\n",
      "Exception:  Input type (torch.cuda.FloatTensor) and weight type (torch.FloatTensor) should be the same\n",
      "Problem with index:  455\n",
      "Exception:  Input type (torch.cuda.FloatTensor) and weight type (torch.FloatTensor) should be the same\n",
      "Problem with index:  456\n",
      "Exception:  Input type (torch.cuda.FloatTensor) and weight type (torch.FloatTensor) should be the same\n",
      "Problem with index:  457\n",
      "Exception:  Input type (torch.cuda.FloatTensor) and weight type (torch.FloatTensor) should be the same\n",
      "Problem with index:  458\n",
      "Exception:  Input type (torch.cuda.FloatTensor) and weight type (torch.FloatTensor) should be the same\n",
      "Problem with index:  459\n",
      "Exception:  Input type (torch.cuda.FloatTensor) and weight type (torch.FloatTensor) should be the same\n",
      "Problem with index:  460\n",
      "Exception:  Input type (torch.cuda.FloatTensor) and weight type (torch.FloatTensor) should be the same\n",
      "Problem with index:  461\n",
      "Exception:  Input type (torch.cuda.FloatTensor) and weight type (torch.FloatTensor) should be the same\n",
      "Problem with index:  462\n",
      "Exception:  Input type (torch.cuda.FloatTensor) and weight type (torch.FloatTensor) should be the same\n",
      "Problem with index:  463\n",
      "Exception:  Input type (torch.cuda.FloatTensor) and weight type (torch.FloatTensor) should be the same\n",
      "Problem with index:  464\n",
      "Exception:  Input type (torch.cuda.FloatTensor) and weight type (torch.FloatTensor) should be the same\n",
      "Problem with index:  465\n",
      "Exception:  Input type (torch.cuda.FloatTensor) and weight type (torch.FloatTensor) should be the same\n",
      "Problem with index:  466\n",
      "Exception:  "
     ]
    },
    {
     "name": "stderr",
     "output_type": "stream",
     "text": [
      "\r",
      "  3%|██                                                                            | 476/17752 [00:04<02:58, 96.83it/s]"
     ]
    },
    {
     "name": "stdout",
     "output_type": "stream",
     "text": [
      "Input type (torch.cuda.FloatTensor) and weight type (torch.FloatTensor) should be the same\n",
      "Problem with index:  467\n",
      "Exception:  Input type (torch.cuda.FloatTensor) and weight type (torch.FloatTensor) should be the same\n",
      "Problem with index:  468\n",
      "Exception:  Input type (torch.cuda.FloatTensor) and weight type (torch.FloatTensor) should be the same\n",
      "Problem with index:  469\n",
      "Exception:  Input type (torch.cuda.FloatTensor) and weight type (torch.FloatTensor) should be the same\n",
      "Problem with index:  470\n",
      "Exception:  Input type (torch.cuda.FloatTensor) and weight type (torch.FloatTensor) should be the same\n",
      "Problem with index:  471\n",
      "Exception:  Input type (torch.cuda.FloatTensor) and weight type (torch.FloatTensor) should be the same\n",
      "Problem with index:  472\n",
      "Exception:  Input type (torch.cuda.FloatTensor) and weight type (torch.FloatTensor) should be the same\n",
      "Problem with index:  473\n",
      "Exception:  Input type (torch.cuda.FloatTensor) and weight type (torch.FloatTensor) should be the same\n",
      "Problem with index:  474\n",
      "Exception:  Input type (torch.cuda.FloatTensor) and weight type (torch.FloatTensor) should be the same\n",
      "Problem with index:  475\n",
      "Exception:  Input type (torch.cuda.FloatTensor) and weight type (torch.FloatTensor) should be the same\n",
      "Problem with index:  476\n",
      "Exception:  Input type (torch.cuda.FloatTensor) and weight type (torch.FloatTensor) should be the same\n",
      "Problem with index:  477\n",
      "Exception:  Input type (torch.cuda.FloatTensor) and weight type (torch.FloatTensor) should be the same\n",
      "Problem with index:  478\n",
      "Exception:  Input type (torch.cuda.FloatTensor) and weight type (torch.FloatTensor) should be the same\n",
      "Problem with index:  479\n",
      "Exception:  Input type (torch.cuda.FloatTensor) and weight type (torch.FloatTensor) should be the same\n",
      "Problem with index:  480\n",
      "Exception:  Input type (torch.cuda.FloatTensor) and weight type (torch.FloatTensor) should be the same\n",
      "Problem with index:  481\n",
      "Exception:  Input type (torch.cuda.FloatTensor) and weight type (torch.FloatTensor) should be the same\n",
      "Problem with index:  482\n",
      "Exception:  Input type (torch.cuda.FloatTensor) and weight type (torch.FloatTensor) should be the same\n",
      "Problem with index:  483\n",
      "Exception:  Input type (torch.cuda.FloatTensor) and weight type (torch.FloatTensor) should be the same\n",
      "Problem with index:  484\n",
      "Exception:  Input type (torch.cuda.FloatTensor) and weight type (torch.FloatTensor) should be the same\n",
      "Problem with index:  485\n",
      "Exception:  Input type (torch.cuda.FloatTensor) and weight type (torch.FloatTensor) should be the same\n"
     ]
    },
    {
     "name": "stderr",
     "output_type": "stream",
     "text": [
      "  3%|██▏                                                                           | 498/17752 [00:04<02:54, 98.91it/s]"
     ]
    },
    {
     "name": "stdout",
     "output_type": "stream",
     "text": [
      "Problem with index:  486\n",
      "Exception:  Input type (torch.cuda.FloatTensor) and weight type (torch.FloatTensor) should be the same\n",
      "Problem with index:  487\n",
      "Exception:  Input type (torch.cuda.FloatTensor) and weight type (torch.FloatTensor) should be the same\n",
      "Problem with index:  488\n",
      "Exception:  Input type (torch.cuda.FloatTensor) and weight type (torch.FloatTensor) should be the same\n",
      "Problem with index:  489\n",
      "Exception:  Input type (torch.cuda.FloatTensor) and weight type (torch.FloatTensor) should be the same\n",
      "Problem with index:  490\n",
      "Exception:  Input type (torch.cuda.FloatTensor) and weight type (torch.FloatTensor) should be the same\n",
      "Problem with index:  491\n",
      "Exception:  Input type (torch.cuda.FloatTensor) and weight type (torch.FloatTensor) should be the same\n",
      "Problem with index:  492\n",
      "Exception:  Input type (torch.cuda.FloatTensor) and weight type (torch.FloatTensor) should be the same\n",
      "Problem with index:  493\n",
      "Exception:  Input type (torch.cuda.FloatTensor) and weight type (torch.FloatTensor) should be the same\n",
      "Problem with index:  494\n",
      "Exception:  Input type (torch.cuda.FloatTensor) and weight type (torch.FloatTensor) should be the same\n",
      "Problem with index:  495\n",
      "Exception:  Input type (torch.cuda.FloatTensor) and weight type (torch.FloatTensor) should be the same\n",
      "Problem with index:  496\n",
      "Exception:  Input type (torch.cuda.FloatTensor) and weight type (torch.FloatTensor) should be the same\n",
      "Problem with index:  497\n",
      "Exception:  Input type (torch.cuda.FloatTensor) and weight type (torch.FloatTensor) should be the same\n",
      "Problem with index:  498\n",
      "Exception:  Input type (torch.cuda.FloatTensor) and weight type (torch.FloatTensor) should be the same\n",
      "Problem with index:  499\n",
      "Exception:  Input type (torch.cuda.FloatTensor) and weight type (torch.FloatTensor) should be the same\n",
      "Problem with index:  500\n",
      "Exception:  Input type (torch.cuda.FloatTensor) and weight type (torch.FloatTensor) should be the same\n",
      "Problem with index:  501\n",
      "Exception:  Input type (torch.cuda.FloatTensor) and weight type (torch.FloatTensor) should be the same\n",
      "Problem with index:  502\n",
      "Exception:  Input type (torch.cuda.FloatTensor) and weight type (torch.FloatTensor) should be the same\n",
      "Problem with index:  503\n",
      "Exception:  Input type (torch.cuda.FloatTensor) and weight type (torch.FloatTensor) should be the same\n",
      "Problem with index:  504\n",
      "Exception:  Input type (torch.cuda.FloatTensor) and weight type (torch.FloatTensor) should be the same\n",
      "Problem with index:  505\n",
      "Exception:  Input type (torch.cuda.FloatTensor) and weight type (torch.FloatTensor) should be the same\n",
      "Problem with index:  506\n",
      "Exception:  Input type (torch.cuda.FloatTensor) and weight type (torch.FloatTensor) should be the same\n",
      "Problem with index:  507\n",
      "Exception:  Input type (torch.cuda.FloatTensor) and weight type (torch.FloatTensor) should be the same\n"
     ]
    },
    {
     "name": "stderr",
     "output_type": "stream",
     "text": [
      "  3%|██▎                                                                          | 525/17752 [00:05<02:51, 100.44it/s]"
     ]
    },
    {
     "name": "stdout",
     "output_type": "stream",
     "text": [
      "Problem with index:  508\n",
      "Exception:  Input type (torch.cuda.FloatTensor) and weight type (torch.FloatTensor) should be the same\n",
      "Problem with index:  509\n",
      "Exception:  Input type (torch.cuda.FloatTensor) and weight type (torch.FloatTensor) should be the same\n",
      "Problem with index:  510\n",
      "Exception:  Input type (torch.cuda.FloatTensor) and weight type (torch.FloatTensor) should be the same\n",
      "Problem with index:  511\n",
      "Exception:  Input type (torch.cuda.FloatTensor) and weight type (torch.FloatTensor) should be the same\n",
      "Problem with index:  512\n",
      "Exception:  Input type (torch.cuda.FloatTensor) and weight type (torch.FloatTensor) should be the same\n",
      "Problem with index:  513\n",
      "Exception:  Input type (torch.cuda.FloatTensor) and weight type (torch.FloatTensor) should be the same\n",
      "Problem with index:  514\n",
      "Exception:  Input type (torch.cuda.FloatTensor) and weight type (torch.FloatTensor) should be the same\n",
      "Problem with index:  515\n",
      "Exception:  Input type (torch.cuda.FloatTensor) and weight type (torch.FloatTensor) should be the same\n",
      "Problem with index:  516\n",
      "Exception:  Input type (torch.cuda.FloatTensor) and weight type (torch.FloatTensor) should be the same\n",
      "Problem with index:  517\n",
      "Exception:  Input type (torch.cuda.FloatTensor) and weight type (torch.FloatTensor) should be the same\n",
      "Problem with index:  518\n",
      "Exception:  Input type (torch.cuda.FloatTensor) and weight type (torch.FloatTensor) should be the same\n",
      "Problem with index:  519\n",
      "Exception:  Input type (torch.cuda.FloatTensor) and weight type (torch.FloatTensor) should be the same\n",
      "Problem with index:  520\n",
      "Exception:  Input type (torch.cuda.FloatTensor) and weight type (torch.FloatTensor) should be the same\n",
      "Problem with index:  521\n",
      "Exception:  Input type (torch.cuda.FloatTensor) and weight type (torch.FloatTensor) should be the same\n",
      "Problem with index:  522\n",
      "Exception:  Input type (torch.cuda.FloatTensor) and weight type (torch.FloatTensor) should be the same\n",
      "Problem with index:  523\n",
      "Exception:  Input type (torch.cuda.FloatTensor) and weight type (torch.FloatTensor) should be the same\n",
      "Problem with index:  524\n",
      "Exception:  Input type (torch.cuda.FloatTensor) and weight type (torch.FloatTensor) should be the same\n"
     ]
    },
    {
     "name": "stderr",
     "output_type": "stream",
     "text": [
      "\n"
     ]
    },
    {
     "ename": "KeyboardInterrupt",
     "evalue": "",
     "output_type": "error",
     "traceback": [
      "\u001b[1;31m---------------------------------------------------------------------------\u001b[0m",
      "\u001b[1;31mKeyboardInterrupt\u001b[0m                         Traceback (most recent call last)",
      "Input \u001b[1;32mIn [21]\u001b[0m, in \u001b[0;36m<cell line: 1>\u001b[1;34m()\u001b[0m\n\u001b[0;32m      1\u001b[0m \u001b[38;5;28;01mif\u001b[39;00m words:\n\u001b[1;32m----> 2\u001b[0m     result_words_trocr_small \u001b[38;5;241m=\u001b[39m \u001b[43mrun_benchmark\u001b[49m\u001b[43m(\u001b[49m\u001b[43mwords_test\u001b[49m\u001b[43m,\u001b[49m\u001b[43m \u001b[49m\u001b[43mtrocr\u001b[49m\u001b[43m)\u001b[49m\n\u001b[0;32m      3\u001b[0m     cer_words_trocr_small, wer_words_trocr_small, inf_words_trocr_small \u001b[38;5;241m=\u001b[39m calc_cer_wer_inf(result_words_trocr_small)\n\u001b[0;32m      4\u001b[0m     result_words_trocr_small\u001b[38;5;241m.\u001b[39mhead()\n",
      "Input \u001b[1;32mIn [10]\u001b[0m, in \u001b[0;36mrun_benchmark\u001b[1;34m(data_set, model)\u001b[0m\n\u001b[0;32m     15\u001b[0m \u001b[38;5;28;01mfor\u001b[39;00m i \u001b[38;5;129;01min\u001b[39;00m tqdm(\u001b[38;5;28mrange\u001b[39m(size)):\n\u001b[0;32m     16\u001b[0m     \u001b[38;5;66;03m# If file is corrupt, error will be raised.\u001b[39;00m\n\u001b[0;32m     17\u001b[0m     \u001b[38;5;28;01mtry\u001b[39;00m:    \n\u001b[1;32m---> 18\u001b[0m         img, target \u001b[38;5;241m=\u001b[39m \u001b[43mgetImage\u001b[49m\u001b[43m(\u001b[49m\u001b[43mdata_set\u001b[49m\u001b[43m,\u001b[49m\u001b[43m \u001b[49m\u001b[43mi\u001b[49m\u001b[43m)\u001b[49m\n\u001b[0;32m     19\u001b[0m         img \u001b[38;5;241m=\u001b[39m cv\u001b[38;5;241m.\u001b[39mcvtColor(img, cv\u001b[38;5;241m.\u001b[39mCOLOR_BGR2GRAY)\n\u001b[0;32m     20\u001b[0m         tickmeter\u001b[38;5;241m.\u001b[39mstart()\n",
      "Input \u001b[1;32mIn [16]\u001b[0m, in \u001b[0;36mgetImage\u001b[1;34m(dataframe, idx)\u001b[0m\n\u001b[0;32m      1\u001b[0m \u001b[38;5;28;01mdef\u001b[39;00m \u001b[38;5;21mgetImage\u001b[39m(dataframe, idx):\n\u001b[0;32m      2\u001b[0m     data \u001b[38;5;241m=\u001b[39m dataframe\u001b[38;5;241m.\u001b[39miloc[idx]\n\u001b[1;32m----> 3\u001b[0m     img \u001b[38;5;241m=\u001b[39m \u001b[43mcv\u001b[49m\u001b[38;5;241;43m.\u001b[39;49m\u001b[43mimread\u001b[49m\u001b[43m(\u001b[49m\u001b[43mdata\u001b[49m\u001b[43m[\u001b[49m\u001b[38;5;124;43m\"\u001b[39;49m\u001b[38;5;124;43mimg_path\u001b[39;49m\u001b[38;5;124;43m\"\u001b[39;49m\u001b[43m]\u001b[49m\u001b[43m)\u001b[49m\n\u001b[0;32m      5\u001b[0m     \u001b[38;5;28;01massert\u001b[39;00m \u001b[38;5;28misinstance\u001b[39m(img, np\u001b[38;5;241m.\u001b[39mndarray), (\n\u001b[0;32m      6\u001b[0m         \u001b[38;5;124mf\u001b[39m\u001b[38;5;124m\"\u001b[39m\u001b[38;5;124mError: image at path \u001b[39m\u001b[38;5;132;01m{\u001b[39;00mdata[\u001b[38;5;124m'\u001b[39m\u001b[38;5;124mimg_path\u001b[39m\u001b[38;5;124m'\u001b[39m]\u001b[38;5;132;01m}\u001b[39;00m\u001b[38;5;124m is not properly loaded. \u001b[39m\u001b[38;5;124m\"\u001b[39m\n\u001b[0;32m      7\u001b[0m         \u001b[38;5;124mf\u001b[39m\u001b[38;5;124m\"\u001b[39m\u001b[38;5;124mIs there something wrong with this image?\u001b[39m\u001b[38;5;124m\"\u001b[39m\n\u001b[0;32m      8\u001b[0m     )\n\u001b[0;32m     10\u001b[0m     \u001b[38;5;28;01mreturn\u001b[39;00m img, data[\u001b[38;5;124m\"\u001b[39m\u001b[38;5;124mtarget\u001b[39m\u001b[38;5;124m\"\u001b[39m]\n",
      "\u001b[1;31mKeyboardInterrupt\u001b[0m: "
     ]
    }
   ],
   "source": [
    "if words:\n",
    "    result_words_trocr_small = run_benchmark(words_test, trocr)\n",
    "    cer_words_trocr_small, wer_words_trocr_small, inf_words_trocr_small = calc_cer_wer_inf(result_words_trocr_small)\n",
    "    result_words_trocr_small.head()"
   ]
  },
  {
   "cell_type": "markdown",
   "id": "455c6cb4",
   "metadata": {},
   "source": [
    "#### Lines Dataset"
   ]
  },
  {
   "cell_type": "code",
   "execution_count": null,
   "id": "220d9636",
   "metadata": {
    "scrolled": true
   },
   "outputs": [],
   "source": [
    "if lines:\n",
    "    result_lines_trocr_small = run_benchmark(lines_test, trocr)\n",
    "    cer_lines_trocr_small, wer_lines_trocr_small, inf_lines_trocr_small = calc_cer_wer_inf(result_lines_trocr_small)\n",
    "    result_words_trocr_small.head()"
   ]
  },
  {
   "cell_type": "markdown",
   "id": "98ecc821",
   "metadata": {},
   "source": [
    "### Base"
   ]
  },
  {
   "cell_type": "code",
   "execution_count": null,
   "id": "e1f27d52",
   "metadata": {},
   "outputs": [],
   "source": [
    "processor = TrOCRProcessor.from_pretrained('microsoft/trocr-base-handwritten')\n",
    "model = VisionEncoderDecoderModel.from_pretrained('microsoft/trocr-base-handwritten', pad_token_id=processor.tokenizer.pad_token_id)\n",
    "\n",
    "trocr = TrOCR(processor, model)"
   ]
  },
  {
   "cell_type": "markdown",
   "id": "2cd35f21",
   "metadata": {},
   "source": [
    "#### Words"
   ]
  },
  {
   "cell_type": "code",
   "execution_count": null,
   "id": "ea8f6823",
   "metadata": {},
   "outputs": [],
   "source": [
    "if words:\n",
    "    result_words_trocr_base = run_benchmark(words_test, trocr)\n",
    "    cer_words_trocr_base, wer_words_trocr_base, inf_words_trocr_base = calc_cer_wer_inf(result_words_trocr_base)\n",
    "    result_words_trocr_base.head()"
   ]
  },
  {
   "cell_type": "code",
   "execution_count": null,
   "id": "6fab262d",
   "metadata": {},
   "outputs": [],
   "source": [
    "result_words_trocr_base.to_csv('result_words_trocr_base_22-05-29_sep.csv',  sep =';')"
   ]
  },
  {
   "cell_type": "markdown",
   "id": "fd3c43ac",
   "metadata": {},
   "source": [
    "#### Lines"
   ]
  },
  {
   "cell_type": "code",
   "execution_count": null,
   "id": "8bfc1786",
   "metadata": {},
   "outputs": [],
   "source": [
    "if lines:\n",
    "    result_lines_trocr_base = run_benchmark(lines_test, trocr)\n",
    "    cer_lines_trocr_base, wer_lines_trocr_base, inf_lines_trocr_base = calc_cer_wer_inf(result_lines_trocr_base)\n",
    "    result_lines_trocr_base.head()"
   ]
  },
  {
   "cell_type": "code",
   "execution_count": null,
   "id": "04dfd1c0",
   "metadata": {},
   "outputs": [],
   "source": [
    "result_lines_trocr_base.to_csv('result_lines_trocr_base_22-05-29_sep.csv',  sep =';')"
   ]
  },
  {
   "cell_type": "markdown",
   "id": "cec0a5f9",
   "metadata": {},
   "source": [
    "### Large"
   ]
  },
  {
   "cell_type": "code",
   "execution_count": null,
   "id": "1c7dfd48",
   "metadata": {},
   "outputs": [],
   "source": [
    "processor = TrOCRProcessor.from_pretrained('microsoft/trocr-large-handwritten')\n",
    "model = VisionEncoderDecoderModel.from_pretrained('microsoft/trocr-large-handwritten', pad_token_id=processor.tokenizer.pad_token_id)\n",
    "\n",
    "trocr = TrOCR(processor, model)"
   ]
  },
  {
   "cell_type": "markdown",
   "id": "f336e1c1",
   "metadata": {},
   "source": [
    "#### Words"
   ]
  },
  {
   "cell_type": "code",
   "execution_count": null,
   "id": "fbaf528a",
   "metadata": {
    "scrolled": false
   },
   "outputs": [],
   "source": [
    "if words:\n",
    "    result_words_trocr_large = run_benchmark(words_test, trocr)\n",
    "    cer_words_trocr_large, wer_words_trocr_large, inf_words_trocr_large = calc_cer_wer_inf(result_words_trocr_large)\n",
    "    result_words_trocr_large.head()"
   ]
  },
  {
   "cell_type": "code",
   "execution_count": null,
   "id": "ade7a7cc",
   "metadata": {},
   "outputs": [],
   "source": [
    "result_words_trocr_large.to_csv('result_words_trocr_large_22-05-25_sep.csv',  sep =';')"
   ]
  },
  {
   "cell_type": "markdown",
   "id": "c86282c8",
   "metadata": {},
   "source": [
    "#### Lines"
   ]
  },
  {
   "cell_type": "code",
   "execution_count": null,
   "id": "a2b8d72f",
   "metadata": {},
   "outputs": [],
   "source": [
    "if lines:\n",
    "    result_lines_trocr_large = run_benchmark(lines_test, trocr)\n",
    "    cer_lines_trocr_large, wer_lines_trocr_large, inf_lines_trocr_large = calc_cer_wer_inf(result_lines_trocr_large)\n",
    "    result_words_trocr_base.head()"
   ]
  }
 ],
 "metadata": {
  "kernelspec": {
   "display_name": "ortographer",
   "language": "python",
   "name": "ortographer"
  },
  "language_info": {
   "codemirror_mode": {
    "name": "ipython",
    "version": 3
   },
   "file_extension": ".py",
   "mimetype": "text/x-python",
   "name": "python",
   "nbconvert_exporter": "python",
   "pygments_lexer": "ipython3",
   "version": "3.9.13"
  }
 },
 "nbformat": 4,
 "nbformat_minor": 5
}
