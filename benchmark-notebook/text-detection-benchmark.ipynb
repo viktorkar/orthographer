{
 "cells": [
  {
   "cell_type": "markdown",
   "id": "8e273742",
   "metadata": {},
   "source": [
    "# Text Detection Benchmarking\n",
    "\n",
    "**OBS**, requires the transformed IAM data created when running the IAM_yolo_preprocess.ipynb notebook. "
   ]
  },
  {
   "cell_type": "markdown",
   "id": "111b96d2",
   "metadata": {},
   "source": [
    "### Benchmarked models\n",
    "- EAST\n",
    "- YOLOv5 nano\n",
    "- YOLOv5 small\n",
    "- YOLOv5 large"
   ]
  },
  {
   "cell_type": "markdown",
   "id": "88ec13bd",
   "metadata": {},
   "source": [
    "## Imports"
   ]
  },
  {
   "cell_type": "code",
   "execution_count": 1,
   "id": "0cbce712",
   "metadata": {},
   "outputs": [],
   "source": [
    "import os\n",
    "import sys\n",
    "import cv2 as cv\n",
    "from matplotlib import pyplot as plt\n",
    "from tqdm import tqdm\n",
    "from shapely.affinity import rotate, translate\n",
    "from shapely.geometry import Polygon\n",
    "\n",
    "# So we can import the IAM_yolo class.\n",
    "module_path = os.path.abspath(os.path.join('../src'))\n",
    "if module_path not in sys.path:\n",
    "    sys.path.append(module_path)\n",
    "\n",
    "from data import IAM_yolo\n",
    "from yolo import YOLO\n",
    "from east import EAST"
   ]
  },
  {
   "cell_type": "markdown",
   "id": "d989fbee",
   "metadata": {},
   "source": [
    "## Data\n",
    "\n",
    "If the notebook IAM_yolo_preprocess.ipynb has been run. The test data are available in ..data/IAM_yolo/. If not, it first has to be created."
   ]
  },
  {
   "cell_type": "code",
   "execution_count": null,
   "id": "6b2a61e6",
   "metadata": {},
   "outputs": [],
   "source": [
    "iam_yolo = IAM_yolo()\n",
    "\n",
    "data = iam_yolo.get_data('test')\n",
    "\n",
    "data.head()"
   ]
  },
  {
   "cell_type": "code",
   "execution_count": null,
   "id": "c2873756",
   "metadata": {},
   "outputs": [],
   "source": [
    "print(\"Number of test forms: \", len(data))\n",
    "print(\"Number of words: \", sum([len(x) for x in list(data['bounding_boxes'])]))"
   ]
  },
  {
   "cell_type": "markdown",
   "id": "235cf00c",
   "metadata": {},
   "source": [
    "## Util"
   ]
  },
  {
   "cell_type": "code",
   "execution_count": null,
   "id": "d5ab7bb8",
   "metadata": {},
   "outputs": [],
   "source": [
    "def to_polygon(box):\n",
    "    x1 = box[0]\n",
    "    x2 = box[1]\n",
    "    y1 = box[2]\n",
    "    y2 = box[3]\n",
    "    return  Polygon([(x1, y1), (x2, y1), (x2, y2), (x1, y2)])\n"
   ]
  },
  {
   "cell_type": "code",
   "execution_count": null,
   "id": "869c8133",
   "metadata": {},
   "outputs": [],
   "source": [
    "def draw_boxes(img, boxes):\n",
    "    img_boxes = img.copy()\n",
    "    for box in boxes:\n",
    "        img_boxes = cv.rectangle(img_boxes, (box[0], box[3]), (box[1], box[2]), (255, 0, 0), 2)\n",
    "    \n",
    "    plt.imshow(img_boxes)\n",
    "    plt.show()"
   ]
  },
  {
   "cell_type": "code",
   "execution_count": null,
   "id": "fb40d335",
   "metadata": {},
   "outputs": [],
   "source": [
    "sample = data.sample()\n",
    "img_path = sample['img_path'].values[0]\n",
    "bounding_boxes = sample['bounding_boxes'].values[0]\n",
    "\n",
    "img = cv.imread(img_path)\n",
    "\n",
    "draw_boxes(img, bounding_boxes)\n"
   ]
  },
  {
   "cell_type": "markdown",
   "id": "30d2559b",
   "metadata": {},
   "source": [
    "## Evaluate models"
   ]
  },
  {
   "cell_type": "code",
   "execution_count": null,
   "id": "0318105b",
   "metadata": {},
   "outputs": [],
   "source": [
    "def evaluate(model, data):\n",
    "    t_pos = 0\n",
    "    f_pos = 0\n",
    "    n_cases = 0\n",
    "    sum_inf_time = 0\n",
    "    iou_threshold  = 0.5\n",
    "    tickmeter = cv.TickMeter()\n",
    "    \n",
    "    for index, row in tqdm(data.iterrows(), total=len(data)):\n",
    "        # Fetch image.\n",
    "        img_path = row[\"img_path\"]\n",
    "        img = cv.imread(img_path)\n",
    "        img = cv.cvtColor(img, cv.COLOR_BGR2GRAY)\n",
    "        \n",
    "        # Pass image through detection model.\n",
    "        tickmeter.start()\n",
    "        bounding_boxes = model(img)\n",
    "        tickmeter.stop()\n",
    "        \n",
    "        # Convert pandas dataframe to list.\n",
    "        bounding_boxes = bounding_boxes.values.tolist()\n",
    "        \n",
    "        n_cases += len(row[\"bounding_boxes\"])\n",
    "        best_set = set()\n",
    "\n",
    "        for idx, target in enumerate(row[\"bounding_boxes\"]):\n",
    "            best = -1\n",
    "            best_idx = -1\n",
    "            bb1 = to_polygon(target)\n",
    "\n",
    "            for box in bounding_boxes:\n",
    "                \n",
    "                bb2 = to_polygon(box)\n",
    "\n",
    "                intersection_area = bb1.intersection(bb2).area\n",
    "                \n",
    "                if intersection_area:\n",
    "                    iou = intersection_area / bb1.union(bb2).area\n",
    "                else:\n",
    "                    iou = 0\n",
    "                    \n",
    "                if iou > best:\n",
    "                    best = iou\n",
    "                    best_idx = idx\n",
    "                    \n",
    "            if best > iou_threshold:\n",
    "                t_pos += 1\n",
    "                best_set.add(best_idx)\n",
    "                \n",
    "        f_pos += len(bounding_boxes) - len(best_set)\n",
    "       \n",
    "    f_neg = n_cases - t_pos \n",
    "    inf_time = tickmeter.getTimeMilli()\n",
    "    tickmeter.reset()\n",
    "    \n",
    "    precision    = round(t_pos / (t_pos + f_pos), 3)\n",
    "    recall       = round(t_pos / (t_pos + f_neg), 3)\n",
    "    avg_inf_time = round(inf_time / n_cases, 3)\n",
    "\n",
    "    print(\"Precision: \", precision)\n",
    "    print(\"Recall: \", recall)\n",
    "    print(\"Avg inf time: \", avg_inf_time)\n",
    "    \n",
    "    return precision, recall, avg_inf_time"
   ]
  },
  {
   "cell_type": "markdown",
   "id": "448034b0",
   "metadata": {},
   "source": [
    "### Models"
   ]
  },
  {
   "cell_type": "markdown",
   "id": "a351c779",
   "metadata": {},
   "source": [
    "#### EAST"
   ]
  },
  {
   "cell_type": "code",
   "execution_count": null,
   "id": "1af0d10d",
   "metadata": {
    "scrolled": true
   },
   "outputs": [],
   "source": [
    "model = EAST(0.5, 0.4)\n",
    "prec_east, rec_east, inf_east = evaluate(model, data)"
   ]
  },
  {
   "cell_type": "markdown",
   "id": "732c08ae",
   "metadata": {},
   "source": [
    "#### YOLOv5s"
   ]
  },
  {
   "cell_type": "code",
   "execution_count": null,
   "id": "d017aa31",
   "metadata": {
    "scrolled": true
   },
   "outputs": [],
   "source": [
    "model = YOLO(\"../models/TD/yolov5s_orthographer.pt\")\n",
    "prec_yolov5s, rec_yolov5s, inf_yolov5s = evaluate(model, data)"
   ]
  }
 ],
 "metadata": {
  "kernelspec": {
   "display_name": "ortographer",
   "language": "python",
   "name": "ortographer"
  },
  "language_info": {
   "codemirror_mode": {
    "name": "ipython",
    "version": 3
   },
   "file_extension": ".py",
   "mimetype": "text/x-python",
   "name": "python",
   "nbconvert_exporter": "python",
   "pygments_lexer": "ipython3",
   "version": "3.9.13"
  }
 },
 "nbformat": 4,
 "nbformat_minor": 5
}
