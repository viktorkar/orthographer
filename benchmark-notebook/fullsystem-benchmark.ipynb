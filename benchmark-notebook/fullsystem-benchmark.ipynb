{
 "cells": [
  {
   "cell_type": "markdown",
   "id": "ac5ce270",
   "metadata": {},
   "source": [
    "# Imports"
   ]
  },
  {
   "cell_type": "code",
   "execution_count": 1,
   "id": "8527a03a",
   "metadata": {},
   "outputs": [],
   "source": [
    "import pandas as pd\n",
    "import os\n",
    "import matplotlib.pyplot as plt\n",
    "import cv2 as cv\n",
    "import numpy as np\n",
    "import ast"
   ]
  },
  {
   "cell_type": "markdown",
   "id": "bc6ac4ee",
   "metadata": {},
   "source": [
    "# Load result from benchmark"
   ]
  },
  {
   "cell_type": "code",
   "execution_count": 4,
   "id": "70ab5415",
   "metadata": {
    "scrolled": true
   },
   "outputs": [],
   "source": [
    "def read_file(file_path):\n",
    "    result = pd.read_csv(file_path, sep=';')\n",
    "    \n",
    "    list_classes = ['classes_true', 'classes_pred', 'bounding_boxes', 'transcript', 'rec_pred', 'final_pred', 'suggestions']\n",
    "    \n",
    "    for x in list_classes:\n",
    "        result[x] = result[x].apply(ast.literal_eval)\n",
    "    \n",
    "    \n",
    "    return result"
   ]
  },
  {
   "cell_type": "code",
   "execution_count": 5,
   "id": "c0369e4d",
   "metadata": {},
   "outputs": [
    {
     "ename": "ParserError",
     "evalue": "Error tokenizing data. C error: Expected 624 fields in line 4, saw 804\n",
     "output_type": "error",
     "traceback": [
      "\u001b[1;31m---------------------------------------------------------------------------\u001b[0m",
      "\u001b[1;31mParserError\u001b[0m                               Traceback (most recent call last)",
      "Input \u001b[1;32mIn [5]\u001b[0m, in \u001b[0;36m<cell line: 3>\u001b[1;34m()\u001b[0m\n\u001b[0;32m      1\u001b[0m file_path \u001b[38;5;241m=\u001b[39m \u001b[38;5;124m\"\u001b[39m\u001b[38;5;124m../benchmark-results/benchmark-result.csv\u001b[39m\u001b[38;5;124m\"\u001b[39m\n\u001b[1;32m----> 3\u001b[0m result \u001b[38;5;241m=\u001b[39m \u001b[43mread_file\u001b[49m\u001b[43m(\u001b[49m\u001b[43mfile_path\u001b[49m\u001b[43m)\u001b[49m\n\u001b[0;32m      5\u001b[0m result\u001b[38;5;241m.\u001b[39mhead()\n",
      "Input \u001b[1;32mIn [4]\u001b[0m, in \u001b[0;36mread_file\u001b[1;34m(file_path)\u001b[0m\n\u001b[0;32m      1\u001b[0m \u001b[38;5;28;01mdef\u001b[39;00m \u001b[38;5;21mread_file\u001b[39m(file_path):\n\u001b[1;32m----> 2\u001b[0m     result \u001b[38;5;241m=\u001b[39m \u001b[43mpd\u001b[49m\u001b[38;5;241;43m.\u001b[39;49m\u001b[43mread_csv\u001b[49m\u001b[43m(\u001b[49m\u001b[43mfile_path\u001b[49m\u001b[43m)\u001b[49m\n\u001b[0;32m      4\u001b[0m     list_classes \u001b[38;5;241m=\u001b[39m [\u001b[38;5;124m'\u001b[39m\u001b[38;5;124mclasses_true\u001b[39m\u001b[38;5;124m'\u001b[39m, \u001b[38;5;124m'\u001b[39m\u001b[38;5;124mclasses_pred\u001b[39m\u001b[38;5;124m'\u001b[39m, \u001b[38;5;124m'\u001b[39m\u001b[38;5;124mbounding_boxes\u001b[39m\u001b[38;5;124m'\u001b[39m, \u001b[38;5;124m'\u001b[39m\u001b[38;5;124mtranscript\u001b[39m\u001b[38;5;124m'\u001b[39m, \u001b[38;5;124m'\u001b[39m\u001b[38;5;124mrec_pred\u001b[39m\u001b[38;5;124m'\u001b[39m, \u001b[38;5;124m'\u001b[39m\u001b[38;5;124mfinal_pred\u001b[39m\u001b[38;5;124m'\u001b[39m, \u001b[38;5;124m'\u001b[39m\u001b[38;5;124msuggestions\u001b[39m\u001b[38;5;124m'\u001b[39m]\n\u001b[0;32m      6\u001b[0m     \u001b[38;5;28;01mfor\u001b[39;00m x \u001b[38;5;129;01min\u001b[39;00m list_classes:\n",
      "File \u001b[1;32m~\\anaconda3\\envs\\ortographer\\lib\\site-packages\\pandas\\io\\parsers.py:610\u001b[0m, in \u001b[0;36mread_csv\u001b[1;34m(filepath_or_buffer, sep, delimiter, header, names, index_col, usecols, squeeze, prefix, mangle_dupe_cols, dtype, engine, converters, true_values, false_values, skipinitialspace, skiprows, skipfooter, nrows, na_values, keep_default_na, na_filter, verbose, skip_blank_lines, parse_dates, infer_datetime_format, keep_date_col, date_parser, dayfirst, cache_dates, iterator, chunksize, compression, thousands, decimal, lineterminator, quotechar, quoting, doublequote, escapechar, comment, encoding, dialect, error_bad_lines, warn_bad_lines, delim_whitespace, low_memory, memory_map, float_precision, storage_options)\u001b[0m\n\u001b[0;32m    605\u001b[0m kwds_defaults \u001b[38;5;241m=\u001b[39m _refine_defaults_read(\n\u001b[0;32m    606\u001b[0m     dialect, delimiter, delim_whitespace, engine, sep, defaults\u001b[38;5;241m=\u001b[39m{\u001b[38;5;124m\"\u001b[39m\u001b[38;5;124mdelimiter\u001b[39m\u001b[38;5;124m\"\u001b[39m: \u001b[38;5;124m\"\u001b[39m\u001b[38;5;124m,\u001b[39m\u001b[38;5;124m\"\u001b[39m}\n\u001b[0;32m    607\u001b[0m )\n\u001b[0;32m    608\u001b[0m kwds\u001b[38;5;241m.\u001b[39mupdate(kwds_defaults)\n\u001b[1;32m--> 610\u001b[0m \u001b[38;5;28;01mreturn\u001b[39;00m \u001b[43m_read\u001b[49m\u001b[43m(\u001b[49m\u001b[43mfilepath_or_buffer\u001b[49m\u001b[43m,\u001b[49m\u001b[43m \u001b[49m\u001b[43mkwds\u001b[49m\u001b[43m)\u001b[49m\n",
      "File \u001b[1;32m~\\anaconda3\\envs\\ortographer\\lib\\site-packages\\pandas\\io\\parsers.py:468\u001b[0m, in \u001b[0;36m_read\u001b[1;34m(filepath_or_buffer, kwds)\u001b[0m\n\u001b[0;32m    465\u001b[0m     \u001b[38;5;28;01mreturn\u001b[39;00m parser\n\u001b[0;32m    467\u001b[0m \u001b[38;5;28;01mwith\u001b[39;00m parser:\n\u001b[1;32m--> 468\u001b[0m     \u001b[38;5;28;01mreturn\u001b[39;00m \u001b[43mparser\u001b[49m\u001b[38;5;241;43m.\u001b[39;49m\u001b[43mread\u001b[49m\u001b[43m(\u001b[49m\u001b[43mnrows\u001b[49m\u001b[43m)\u001b[49m\n",
      "File \u001b[1;32m~\\anaconda3\\envs\\ortographer\\lib\\site-packages\\pandas\\io\\parsers.py:1057\u001b[0m, in \u001b[0;36mTextFileReader.read\u001b[1;34m(self, nrows)\u001b[0m\n\u001b[0;32m   1055\u001b[0m \u001b[38;5;28;01mdef\u001b[39;00m \u001b[38;5;21mread\u001b[39m(\u001b[38;5;28mself\u001b[39m, nrows\u001b[38;5;241m=\u001b[39m\u001b[38;5;28;01mNone\u001b[39;00m):\n\u001b[0;32m   1056\u001b[0m     nrows \u001b[38;5;241m=\u001b[39m validate_integer(\u001b[38;5;124m\"\u001b[39m\u001b[38;5;124mnrows\u001b[39m\u001b[38;5;124m\"\u001b[39m, nrows)\n\u001b[1;32m-> 1057\u001b[0m     index, columns, col_dict \u001b[38;5;241m=\u001b[39m \u001b[38;5;28;43mself\u001b[39;49m\u001b[38;5;241;43m.\u001b[39;49m\u001b[43m_engine\u001b[49m\u001b[38;5;241;43m.\u001b[39;49m\u001b[43mread\u001b[49m\u001b[43m(\u001b[49m\u001b[43mnrows\u001b[49m\u001b[43m)\u001b[49m\n\u001b[0;32m   1059\u001b[0m     \u001b[38;5;28;01mif\u001b[39;00m index \u001b[38;5;129;01mis\u001b[39;00m \u001b[38;5;28;01mNone\u001b[39;00m:\n\u001b[0;32m   1060\u001b[0m         \u001b[38;5;28;01mif\u001b[39;00m col_dict:\n\u001b[0;32m   1061\u001b[0m             \u001b[38;5;66;03m# Any column is actually fine:\u001b[39;00m\n",
      "File \u001b[1;32m~\\anaconda3\\envs\\ortographer\\lib\\site-packages\\pandas\\io\\parsers.py:2036\u001b[0m, in \u001b[0;36mCParserWrapper.read\u001b[1;34m(self, nrows)\u001b[0m\n\u001b[0;32m   2034\u001b[0m \u001b[38;5;28;01mdef\u001b[39;00m \u001b[38;5;21mread\u001b[39m(\u001b[38;5;28mself\u001b[39m, nrows\u001b[38;5;241m=\u001b[39m\u001b[38;5;28;01mNone\u001b[39;00m):\n\u001b[0;32m   2035\u001b[0m     \u001b[38;5;28;01mtry\u001b[39;00m:\n\u001b[1;32m-> 2036\u001b[0m         data \u001b[38;5;241m=\u001b[39m \u001b[38;5;28;43mself\u001b[39;49m\u001b[38;5;241;43m.\u001b[39;49m\u001b[43m_reader\u001b[49m\u001b[38;5;241;43m.\u001b[39;49m\u001b[43mread\u001b[49m\u001b[43m(\u001b[49m\u001b[43mnrows\u001b[49m\u001b[43m)\u001b[49m\n\u001b[0;32m   2037\u001b[0m     \u001b[38;5;28;01mexcept\u001b[39;00m \u001b[38;5;167;01mStopIteration\u001b[39;00m:\n\u001b[0;32m   2038\u001b[0m         \u001b[38;5;28;01mif\u001b[39;00m \u001b[38;5;28mself\u001b[39m\u001b[38;5;241m.\u001b[39m_first_chunk:\n",
      "File \u001b[1;32mpandas\\_libs\\parsers.pyx:756\u001b[0m, in \u001b[0;36mpandas._libs.parsers.TextReader.read\u001b[1;34m()\u001b[0m\n",
      "File \u001b[1;32mpandas\\_libs\\parsers.pyx:771\u001b[0m, in \u001b[0;36mpandas._libs.parsers.TextReader._read_low_memory\u001b[1;34m()\u001b[0m\n",
      "File \u001b[1;32mpandas\\_libs\\parsers.pyx:827\u001b[0m, in \u001b[0;36mpandas._libs.parsers.TextReader._read_rows\u001b[1;34m()\u001b[0m\n",
      "File \u001b[1;32mpandas\\_libs\\parsers.pyx:814\u001b[0m, in \u001b[0;36mpandas._libs.parsers.TextReader._tokenize_rows\u001b[1;34m()\u001b[0m\n",
      "File \u001b[1;32mpandas\\_libs\\parsers.pyx:1951\u001b[0m, in \u001b[0;36mpandas._libs.parsers.raise_parser_error\u001b[1;34m()\u001b[0m\n",
      "\u001b[1;31mParserError\u001b[0m: Error tokenizing data. C error: Expected 624 fields in line 4, saw 804\n"
     ]
    }
   ],
   "source": [
    "file_path = \"../benchmark-results/benchmark-result.csv\"\n",
    "\n",
    "result = read_file(file_path)\n",
    "\n",
    "result.head()"
   ]
  },
  {
   "cell_type": "code",
   "execution_count": null,
   "id": "f828838c",
   "metadata": {},
   "outputs": [],
   "source": [
    "def get_image(img_path):\n",
    "    return cv.imread(img_path)\n",
    "\n",
    "def convert_wordlist_to_string(list_of_words):\n",
    "        nbr_words = len(list_of_words)\n",
    "        text = \"\"\n",
    "        \n",
    "        if nbr_words > 0:\n",
    "            text += list_of_words[0]\n",
    "        \n",
    "            for i in range(1, nbr_words):\n",
    "                text += (\" \" + list_of_words[i])\n",
    "\n",
    "        return text\n",
    "    \n",
    "###################################################################  \n",
    "def display_example(result):\n",
    "    \n",
    "    if (len(result) == 0):\n",
    "        return\n",
    "    \n",
    "    sample = result.sample()\n",
    "    \n",
    "    img = get_image(sample.img_path.values[0])\n",
    "    img = cv.cvtColor(img, cv.COLOR_BGR2RGB)\n",
    "    \n",
    "    transcript_string = convert_wordlist_to_string(sample.transcript.values[0])\n",
    "    rec_pred_string = convert_wordlist_to_string(sample.rec_pred.values[0])\n",
    "    final_pred_string = convert_wordlist_to_string(sample.final_pred.values[0])\n",
    "    \n",
    "    plt.imshow(img)\n",
    "    plt.show()\n",
    "    print(\"Transcript:\\n\", transcript_string)\n",
    "    print(\"\\nRecognition Pred:\\n\", rec_pred_string)\n",
    "    print(\"\\nFinal Pred:\\n\", final_pred_string)\n",
    "    \n",
    "###################################################################    \n",
    "def evaluate_result(result):\n",
    "    final_error = round(result['final_error'].mean() * 100, 3)\n",
    "    rec_error = round(result['rec_error'].mean() * 100, 3)\n",
    "    det_inf = round(result['det_inf'].mean(), 3)\n",
    "    rec_inf = round(result['rec_inf'].mean(), 3)\n",
    "    pp_inf = round(result['pp_inf'].mean(), 3)\n",
    "    total_inf = round(result['total_inf'].mean(), 3)\n",
    "    sc_precision = round(result['sc_precision'].mean() * 100, 3)\n",
    "    sc_recall = round(result['sc_recall'].mean() * 100, 3)\n",
    "    sc_f1 = round(result['sc_f1'].mean() * 100, 3)\n",
    "\n",
    "    print(\"\"\"\n",
    "          -----------------------------------------------\n",
    "          Original Recognition error: {} %\n",
    "          Final recognition error:    {} %\\n\n",
    "          -----------------------------------------------\n",
    "          Detection inference time:   {} ms / word\n",
    "          Recognition inference time: {} ms / word\n",
    "          Postprocess inference time: {} ms / word\n",
    "          Total inference time:       {} ms / word\\n\n",
    "          -----------------------------------------------\n",
    "          Spellcheck precision: {} %\n",
    "          Spellcheck recall:    {} %\n",
    "          Spellcheck F1:        {} %\\n\n",
    "    \"\"\".format(rec_error, final_error, det_inf, rec_inf, pp_inf, total_inf, sc_precision, sc_recall, sc_f1))\n",
    "    \n",
    "###################################################################     \n",
    "def display_incorrect_words(result):\n",
    "    for form_result in result.itertuples():\n",
    "        \n",
    "        # Extract the found incorrect words.\n",
    "        recognized_words = np.array(form_result.final_pred)\n",
    "        classes_pred = np.array(form_result.classes_pred)\n",
    "        found_incorrect_words = recognized_words[classes_pred == 1]\n",
    "        \n",
    "        # Extract the correct incorrect words.\n",
    "        transcript = np.array(form_result.transcript)\n",
    "        classes_true = np.array(form_result.classes_true)\n",
    "        true_incorrect_words = transcript[classes_true == 1]\n",
    "        \n",
    "        # Prints\n",
    "        print(\"######################################################\")\n",
    "        print(\"Input image: \", form_result.img_path.split(\"\\\\\")[-1])\n",
    "        print(\"\\nFound incorrect words:\\n\", found_incorrect_words)\n",
    "        print(\"\\nTrue incorrect words:\\n\", true_incorrect_words)\n",
    "        \n",
    "        print(\"\\n\")\n",
    "    "
   ]
  },
  {
   "cell_type": "code",
   "execution_count": null,
   "id": "6e604557",
   "metadata": {},
   "outputs": [],
   "source": [
    "evaluate_result(result)"
   ]
  },
  {
   "cell_type": "code",
   "execution_count": null,
   "id": "7c80332b",
   "metadata": {},
   "outputs": [],
   "source": [
    "display_example(result)"
   ]
  },
  {
   "cell_type": "code",
   "execution_count": null,
   "id": "9f6f3a6f",
   "metadata": {},
   "outputs": [],
   "source": [
    "display_incorrect_words(result)"
   ]
  }
 ],
 "metadata": {
  "kernelspec": {
   "display_name": "ortographer",
   "language": "python",
   "name": "ortographer"
  },
  "language_info": {
   "codemirror_mode": {
    "name": "ipython",
    "version": 3
   },
   "file_extension": ".py",
   "mimetype": "text/x-python",
   "name": "python",
   "nbconvert_exporter": "python",
   "pygments_lexer": "ipython3",
   "version": "3.9.13"
  }
 },
 "nbformat": 4,
 "nbformat_minor": 5
}
